{
 "cells": [
  {
   "cell_type": "code",
   "execution_count": 5,
   "metadata": {},
   "outputs": [
    {
     "name": "stdout",
     "output_type": "stream",
     "text": [
      "Collecting pandas\n",
      "  Downloading pandas-1.3.5-cp37-cp37m-macosx_10_9_x86_64.whl (11.0 MB)\n",
      "     |████████████████████████████████| 11.0 MB 3.3 MB/s            \n",
      "\u001b[?25hRequirement already satisfied: numpy>=1.17.3 in /Users/aakashbolisetty/.pyenv/versions/3.7.5/lib/python3.7/site-packages (from pandas) (1.21.2)\n",
      "Requirement already satisfied: python-dateutil>=2.7.3 in /Users/aakashbolisetty/.pyenv/versions/3.7.5/lib/python3.7/site-packages (from pandas) (2.9.0.post0)\n",
      "Collecting pytz>=2017.3\n",
      "  Downloading pytz-2024.2-py2.py3-none-any.whl (508 kB)\n",
      "     |████████████████████████████████| 508 kB 12.5 MB/s            \n",
      "\u001b[?25hRequirement already satisfied: six>=1.5 in /Users/aakashbolisetty/.pyenv/versions/3.7.5/lib/python3.7/site-packages (from python-dateutil>=2.7.3->pandas) (1.16.0)\n",
      "Installing collected packages: pytz, pandas\n",
      "Successfully installed pandas-1.3.5 pytz-2024.2\n",
      "\u001b[33mWARNING: You are using pip version 21.3.1; however, version 24.0 is available.\n",
      "You should consider upgrading via the '/Users/aakashbolisetty/.pyenv/versions/3.7.5/bin/python -m pip install --upgrade pip' command.\u001b[0m\n",
      "Note: you may need to restart the kernel to use updated packages.\n"
     ]
    }
   ],
   "source": [
    "pip install pandas"
   ]
  },
  {
   "cell_type": "code",
   "execution_count": 3,
   "metadata": {},
   "outputs": [],
   "source": [
    "import pyspark as py"
   ]
  },
  {
   "cell_type": "code",
   "execution_count": 6,
   "metadata": {},
   "outputs": [
    {
     "name": "stderr",
     "output_type": "stream",
     "text": [
      "/Users/aakashbolisetty/.pyenv/versions/3.7.5/lib/python3.7/site-packages/pandas/compat/__init__.py:124: UserWarning: Could not import the lzma module. Your installed Python is incomplete. Attempting to use lzma compression will result in a RuntimeError.\n",
      "  warnings.warn(msg)\n"
     ]
    },
    {
     "data": {
      "text/html": [
       "<div>\n",
       "<style scoped>\n",
       "    .dataframe tbody tr th:only-of-type {\n",
       "        vertical-align: middle;\n",
       "    }\n",
       "\n",
       "    .dataframe tbody tr th {\n",
       "        vertical-align: top;\n",
       "    }\n",
       "\n",
       "    .dataframe thead th {\n",
       "        text-align: right;\n",
       "    }\n",
       "</style>\n",
       "<table border=\"1\" class=\"dataframe\">\n",
       "  <thead>\n",
       "    <tr style=\"text-align: right;\">\n",
       "      <th></th>\n",
       "      <th>ID</th>\n",
       "      <th>FirstName</th>\n",
       "      <th>LastName</th>\n",
       "      <th>Department</th>\n",
       "      <th>Phone</th>\n",
       "      <th>Address</th>\n",
       "      <th>Salary</th>\n",
       "      <th>Skills</th>\n",
       "    </tr>\n",
       "  </thead>\n",
       "  <tbody>\n",
       "    <tr>\n",
       "      <th>0</th>\n",
       "      <td>1</td>\n",
       "      <td>Luke</td>\n",
       "      <td>Phillip</td>\n",
       "      <td>Sales</td>\n",
       "      <td>1234567890</td>\n",
       "      <td>1st Address, Miami</td>\n",
       "      <td>52000</td>\n",
       "      <td>Online Sales</td>\n",
       "    </tr>\n",
       "    <tr>\n",
       "      <th>1</th>\n",
       "      <td>2</td>\n",
       "      <td>Jack</td>\n",
       "      <td>Darren</td>\n",
       "      <td>IT</td>\n",
       "      <td>1234567891</td>\n",
       "      <td>2nd Address, Miami</td>\n",
       "      <td>52200</td>\n",
       "      <td>Networking</td>\n",
       "    </tr>\n",
       "    <tr>\n",
       "      <th>2</th>\n",
       "      <td>3</td>\n",
       "      <td>Ken</td>\n",
       "      <td>Wood</td>\n",
       "      <td>IT</td>\n",
       "      <td>1234567892</td>\n",
       "      <td>3rd Address, Miami</td>\n",
       "      <td>58000</td>\n",
       "      <td>Python, Java</td>\n",
       "    </tr>\n",
       "    <tr>\n",
       "      <th>3</th>\n",
       "      <td>4</td>\n",
       "      <td>John</td>\n",
       "      <td>Wilson</td>\n",
       "      <td>Marketing</td>\n",
       "      <td>1234567893</td>\n",
       "      <td>4th Address, Miami</td>\n",
       "      <td>58700</td>\n",
       "      <td>Facebook Ads</td>\n",
       "    </tr>\n",
       "    <tr>\n",
       "      <th>4</th>\n",
       "      <td>5</td>\n",
       "      <td>Emily</td>\n",
       "      <td>Larson</td>\n",
       "      <td>Marketing</td>\n",
       "      <td>1234567894</td>\n",
       "      <td>5th Address, Miami</td>\n",
       "      <td>60000</td>\n",
       "      <td>Instagram Ads</td>\n",
       "    </tr>\n",
       "    <tr>\n",
       "      <th>5</th>\n",
       "      <td>6</td>\n",
       "      <td>Anna</td>\n",
       "      <td>Sullivan</td>\n",
       "      <td>Sales</td>\n",
       "      <td>1234567895</td>\n",
       "      <td>6th Address, Miami</td>\n",
       "      <td>54000</td>\n",
       "      <td>In-Person Sales</td>\n",
       "    </tr>\n",
       "    <tr>\n",
       "      <th>6</th>\n",
       "      <td>7</td>\n",
       "      <td>Richard</td>\n",
       "      <td>Smith</td>\n",
       "      <td>Logistics</td>\n",
       "      <td>1234567896</td>\n",
       "      <td>7th Address, Miami</td>\n",
       "      <td>56000</td>\n",
       "      <td>Warehouse Mgmt.</td>\n",
       "    </tr>\n",
       "    <tr>\n",
       "      <th>7</th>\n",
       "      <td>8</td>\n",
       "      <td>Ronnie</td>\n",
       "      <td>Moore</td>\n",
       "      <td>Sales</td>\n",
       "      <td>1234567897</td>\n",
       "      <td>8th Address, Miami</td>\n",
       "      <td>49000</td>\n",
       "      <td>Online Sales</td>\n",
       "    </tr>\n",
       "    <tr>\n",
       "      <th>8</th>\n",
       "      <td>9</td>\n",
       "      <td>Ron</td>\n",
       "      <td>Drake</td>\n",
       "      <td>IT</td>\n",
       "      <td>1234567898</td>\n",
       "      <td>9th Address, Miami</td>\n",
       "      <td>53000</td>\n",
       "      <td>Linux Servers</td>\n",
       "    </tr>\n",
       "    <tr>\n",
       "      <th>9</th>\n",
       "      <td>10</td>\n",
       "      <td>Wayne</td>\n",
       "      <td>Barker</td>\n",
       "      <td>Logistics</td>\n",
       "      <td>1234567899</td>\n",
       "      <td>10th Address, Miami</td>\n",
       "      <td>59500</td>\n",
       "      <td>Product Loading</td>\n",
       "    </tr>\n",
       "  </tbody>\n",
       "</table>\n",
       "</div>"
      ],
      "text/plain": [
       "   ID FirstName  LastName Department       Phone              Address  Salary  \\\n",
       "0   1      Luke   Phillip      Sales  1234567890   1st Address, Miami   52000   \n",
       "1   2      Jack    Darren         IT  1234567891   2nd Address, Miami   52200   \n",
       "2   3       Ken      Wood         IT  1234567892   3rd Address, Miami   58000   \n",
       "3   4      John    Wilson  Marketing  1234567893   4th Address, Miami   58700   \n",
       "4   5     Emily    Larson  Marketing  1234567894   5th Address, Miami   60000   \n",
       "5   6      Anna  Sullivan      Sales  1234567895   6th Address, Miami   54000   \n",
       "6   7   Richard     Smith  Logistics  1234567896   7th Address, Miami   56000   \n",
       "7   8    Ronnie     Moore      Sales  1234567897   8th Address, Miami   49000   \n",
       "8   9       Ron     Drake         IT  1234567898   9th Address, Miami   53000   \n",
       "9  10     Wayne    Barker  Logistics  1234567899  10th Address, Miami   59500   \n",
       "\n",
       "            Skills  \n",
       "0     Online Sales  \n",
       "1       Networking  \n",
       "2     Python, Java  \n",
       "3     Facebook Ads  \n",
       "4    Instagram Ads  \n",
       "5  In-Person Sales  \n",
       "6  Warehouse Mgmt.  \n",
       "7     Online Sales  \n",
       "8    Linux Servers  \n",
       "9  Product Loading  "
      ]
     },
     "execution_count": 6,
     "metadata": {},
     "output_type": "execute_result"
    }
   ],
   "source": [
    "import pandas as pd\n",
    "pd.read_csv('employees.csv')"
   ]
  },
  {
   "cell_type": "code",
   "execution_count": 7,
   "metadata": {},
   "outputs": [],
   "source": [
    "##Start a Spark Session\n",
    "\n",
    "from pyspark.sql import SparkSession"
   ]
  },
  {
   "cell_type": "code",
   "execution_count": 8,
   "metadata": {},
   "outputs": [
    {
     "name": "stderr",
     "output_type": "stream",
     "text": [
      "Setting default log level to \"WARN\".\n",
      "To adjust logging level use sc.setLogLevel(newLevel). For SparkR, use setLogLevel(newLevel).\n",
      "24/12/26 13:49:01 WARN NativeCodeLoader: Unable to load native-hadoop library for your platform... using builtin-java classes where applicable\n",
      "/Users/aakashbolisetty/.pyenv/versions/3.7.5/lib/python3.7/site-packages/pyspark/context.py:317: FutureWarning: Python 3.7 support is deprecated in Spark 3.4.\n",
      "  warnings.warn(\"Python 3.7 support is deprecated in Spark 3.4.\", FutureWarning)\n"
     ]
    }
   ],
   "source": [
    "spark = SparkSession.builder.appName('Practice1').getOrCreate()"
   ]
  },
  {
   "cell_type": "code",
   "execution_count": 9,
   "metadata": {},
   "outputs": [
    {
     "data": {
      "text/html": [
       "\n",
       "            <div>\n",
       "                <p><b>SparkSession - in-memory</b></p>\n",
       "                \n",
       "        <div>\n",
       "            <p><b>SparkContext</b></p>\n",
       "\n",
       "            <p><a href=\"http://aakashs-mbp.lan:4040\">Spark UI</a></p>\n",
       "\n",
       "            <dl>\n",
       "              <dt>Version</dt>\n",
       "                <dd><code>v3.4.4</code></dd>\n",
       "              <dt>Master</dt>\n",
       "                <dd><code>local[*]</code></dd>\n",
       "              <dt>AppName</dt>\n",
       "                <dd><code>Practice1</code></dd>\n",
       "            </dl>\n",
       "        </div>\n",
       "        \n",
       "            </div>\n",
       "        "
      ],
      "text/plain": [
       "<pyspark.sql.session.SparkSession at 0x11ad7a050>"
      ]
     },
     "execution_count": 9,
     "metadata": {},
     "output_type": "execute_result"
    }
   ],
   "source": [
    "spark"
   ]
  },
  {
   "cell_type": "code",
   "execution_count": 12,
   "metadata": {},
   "outputs": [],
   "source": [
    "df_pyspark = spark.read.csv('employees.csv',header=True)"
   ]
  },
  {
   "cell_type": "code",
   "execution_count": 13,
   "metadata": {},
   "outputs": [
    {
     "data": {
      "text/plain": [
       "DataFrame[ID: string, FirstName: string, LastName: string, Department: string, Phone: string, Address: string, Salary: string, Skills: string]"
      ]
     },
     "execution_count": 13,
     "metadata": {},
     "output_type": "execute_result"
    }
   ],
   "source": [
    "df_pyspark"
   ]
  },
  {
   "cell_type": "code",
   "execution_count": 14,
   "metadata": {},
   "outputs": [
    {
     "name": "stdout",
     "output_type": "stream",
     "text": [
      "+---+---------+--------+----------+----------+-------------------+------+---------------+\n",
      "| ID|FirstName|LastName|Department|     Phone|            Address|Salary|         Skills|\n",
      "+---+---------+--------+----------+----------+-------------------+------+---------------+\n",
      "|  1|     Luke| Phillip|     Sales|1234567890| 1st Address, Miami| 52000|   Online Sales|\n",
      "|  2|     Jack|  Darren|        IT|1234567891| 2nd Address, Miami| 52200|     Networking|\n",
      "|  3|      Ken|    Wood|        IT|1234567892| 3rd Address, Miami| 58000|   Python, Java|\n",
      "|  4|     John|  Wilson| Marketing|1234567893| 4th Address, Miami| 58700|   Facebook Ads|\n",
      "|  5|    Emily|  Larson| Marketing|1234567894| 5th Address, Miami| 60000|  Instagram Ads|\n",
      "|  6|     Anna|Sullivan|     Sales|1234567895| 6th Address, Miami| 54000|In-Person Sales|\n",
      "|  7|  Richard|   Smith| Logistics|1234567896| 7th Address, Miami| 56000|Warehouse Mgmt.|\n",
      "|  8|   Ronnie|   Moore|     Sales|1234567897| 8th Address, Miami| 49000|   Online Sales|\n",
      "|  9|      Ron|   Drake|        IT|1234567898| 9th Address, Miami| 53000|  Linux Servers|\n",
      "| 10|    Wayne|  Barker| Logistics|1234567899|10th Address, Miami| 59500|Product Loading|\n",
      "+---+---------+--------+----------+----------+-------------------+------+---------------+\n",
      "\n"
     ]
    }
   ],
   "source": [
    "df_pyspark.show()"
   ]
  },
  {
   "cell_type": "code",
   "execution_count": null,
   "metadata": {},
   "outputs": [],
   "source": []
  }
 ],
 "metadata": {
  "kernelspec": {
   "display_name": "Python 3",
   "language": "python",
   "name": "python3"
  },
  "language_info": {
   "codemirror_mode": {
    "name": "ipython",
    "version": 3
   },
   "file_extension": ".py",
   "mimetype": "text/x-python",
   "name": "python",
   "nbconvert_exporter": "python",
   "pygments_lexer": "ipython3",
   "version": "3.7.5"
  }
 },
 "nbformat": 4,
 "nbformat_minor": 2
}
