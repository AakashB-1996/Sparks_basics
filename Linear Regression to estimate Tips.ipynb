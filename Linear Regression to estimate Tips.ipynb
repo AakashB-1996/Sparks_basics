{
 "cells": [
  {
   "cell_type": "markdown",
   "metadata": {
    "application/vnd.databricks.v1+cell": {
     "cellMetadata": {},
     "inputWidgets": {},
     "nuid": "96816ed7-b08a-4ca3-abb9-f99880c3535d",
     "showTitle": false,
     "tableResultSettingsMap": {},
     "title": ""
    }
   },
   "source": [
    "\n",
    "## Overview\n",
    "\n",
    "This notebook will show you how to create and query a table or DataFrame that you uploaded to DBFS. [DBFS](https://docs.databricks.com/user-guide/dbfs-databricks-file-system.html) is a Databricks File System that allows you to store data for querying inside of Databricks. This notebook assumes that you have a file already inside of DBFS that you would like to read from.\n",
    "\n",
    "This notebook is written in **Python** so the default cell type is Python. However, you can use different languages by using the `%LANGUAGE` syntax. Python, Scala, SQL, and R are all supported."
   ]
  },
  {
   "cell_type": "code",
   "execution_count": 0,
   "metadata": {
    "application/vnd.databricks.v1+cell": {
     "cellMetadata": {
      "byteLimit": 2048000,
      "rowLimit": 10000
     },
     "inputWidgets": {},
     "nuid": "6482be4c-f067-47c9-b0ac-35c938b94601",
     "showTitle": false,
     "tableResultSettingsMap": {},
     "title": ""
    }
   },
   "outputs": [
    {
     "output_type": "display_data",
     "data": {
      "text/html": [
       "<style scoped>\n",
       "  .table-result-container {\n",
       "    max-height: 300px;\n",
       "    overflow: auto;\n",
       "  }\n",
       "  table, th, td {\n",
       "    border: 1px solid black;\n",
       "    border-collapse: collapse;\n",
       "  }\n",
       "  th, td {\n",
       "    padding: 5px;\n",
       "  }\n",
       "  th {\n",
       "    text-align: left;\n",
       "  }\n",
       "</style><div class='table-result-container'><table class='table-result'><thead style='background-color: white'><tr><th>total_bill</th><th>tip</th><th>sex</th><th>smoker</th><th>day</th><th>time</th><th>size</th></tr></thead><tbody><tr><td>16.99</td><td>1.01</td><td>Female</td><td>No</td><td>Sun</td><td>Dinner</td><td>2</td></tr><tr><td>10.34</td><td>1.66</td><td>Male</td><td>No</td><td>Sun</td><td>Dinner</td><td>3</td></tr><tr><td>21.01</td><td>3.5</td><td>Male</td><td>No</td><td>Sun</td><td>Dinner</td><td>3</td></tr><tr><td>23.68</td><td>3.31</td><td>Male</td><td>No</td><td>Sun</td><td>Dinner</td><td>2</td></tr><tr><td>24.59</td><td>3.61</td><td>Female</td><td>No</td><td>Sun</td><td>Dinner</td><td>4</td></tr><tr><td>25.29</td><td>4.71</td><td>Male</td><td>No</td><td>Sun</td><td>Dinner</td><td>4</td></tr><tr><td>8.77</td><td>2.0</td><td>Male</td><td>No</td><td>Sun</td><td>Dinner</td><td>2</td></tr><tr><td>26.88</td><td>3.12</td><td>Male</td><td>No</td><td>Sun</td><td>Dinner</td><td>4</td></tr><tr><td>15.04</td><td>1.96</td><td>Male</td><td>No</td><td>Sun</td><td>Dinner</td><td>2</td></tr><tr><td>14.78</td><td>3.23</td><td>Male</td><td>No</td><td>Sun</td><td>Dinner</td><td>2</td></tr><tr><td>10.27</td><td>1.71</td><td>Male</td><td>No</td><td>Sun</td><td>Dinner</td><td>2</td></tr><tr><td>35.26</td><td>5.0</td><td>Female</td><td>No</td><td>Sun</td><td>Dinner</td><td>4</td></tr><tr><td>15.42</td><td>1.57</td><td>Male</td><td>No</td><td>Sun</td><td>Dinner</td><td>2</td></tr><tr><td>18.43</td><td>3.0</td><td>Male</td><td>No</td><td>Sun</td><td>Dinner</td><td>4</td></tr><tr><td>14.83</td><td>3.02</td><td>Female</td><td>No</td><td>Sun</td><td>Dinner</td><td>2</td></tr><tr><td>21.58</td><td>3.92</td><td>Male</td><td>No</td><td>Sun</td><td>Dinner</td><td>2</td></tr><tr><td>10.33</td><td>1.67</td><td>Female</td><td>No</td><td>Sun</td><td>Dinner</td><td>3</td></tr><tr><td>16.29</td><td>3.71</td><td>Male</td><td>No</td><td>Sun</td><td>Dinner</td><td>3</td></tr><tr><td>16.97</td><td>3.5</td><td>Female</td><td>No</td><td>Sun</td><td>Dinner</td><td>3</td></tr><tr><td>20.65</td><td>3.35</td><td>Male</td><td>No</td><td>Sat</td><td>Dinner</td><td>3</td></tr><tr><td>17.92</td><td>4.08</td><td>Male</td><td>No</td><td>Sat</td><td>Dinner</td><td>2</td></tr><tr><td>20.29</td><td>2.75</td><td>Female</td><td>No</td><td>Sat</td><td>Dinner</td><td>2</td></tr><tr><td>15.77</td><td>2.23</td><td>Female</td><td>No</td><td>Sat</td><td>Dinner</td><td>2</td></tr><tr><td>39.42</td><td>7.58</td><td>Male</td><td>No</td><td>Sat</td><td>Dinner</td><td>4</td></tr><tr><td>19.82</td><td>3.18</td><td>Male</td><td>No</td><td>Sat</td><td>Dinner</td><td>2</td></tr><tr><td>17.81</td><td>2.34</td><td>Male</td><td>No</td><td>Sat</td><td>Dinner</td><td>4</td></tr><tr><td>13.37</td><td>2.0</td><td>Male</td><td>No</td><td>Sat</td><td>Dinner</td><td>2</td></tr><tr><td>12.69</td><td>2.0</td><td>Male</td><td>No</td><td>Sat</td><td>Dinner</td><td>2</td></tr><tr><td>21.7</td><td>4.3</td><td>Male</td><td>No</td><td>Sat</td><td>Dinner</td><td>2</td></tr><tr><td>19.65</td><td>3.0</td><td>Female</td><td>No</td><td>Sat</td><td>Dinner</td><td>2</td></tr><tr><td>9.55</td><td>1.45</td><td>Male</td><td>No</td><td>Sat</td><td>Dinner</td><td>2</td></tr><tr><td>18.35</td><td>2.5</td><td>Male</td><td>No</td><td>Sat</td><td>Dinner</td><td>4</td></tr><tr><td>15.06</td><td>3.0</td><td>Female</td><td>No</td><td>Sat</td><td>Dinner</td><td>2</td></tr><tr><td>20.69</td><td>2.45</td><td>Female</td><td>No</td><td>Sat</td><td>Dinner</td><td>4</td></tr><tr><td>17.78</td><td>3.27</td><td>Male</td><td>No</td><td>Sat</td><td>Dinner</td><td>2</td></tr><tr><td>24.06</td><td>3.6</td><td>Male</td><td>No</td><td>Sat</td><td>Dinner</td><td>3</td></tr><tr><td>16.31</td><td>2.0</td><td>Male</td><td>No</td><td>Sat</td><td>Dinner</td><td>3</td></tr><tr><td>16.93</td><td>3.07</td><td>Female</td><td>No</td><td>Sat</td><td>Dinner</td><td>3</td></tr><tr><td>18.69</td><td>2.31</td><td>Male</td><td>No</td><td>Sat</td><td>Dinner</td><td>3</td></tr><tr><td>31.27</td><td>5.0</td><td>Male</td><td>No</td><td>Sat</td><td>Dinner</td><td>3</td></tr><tr><td>16.04</td><td>2.24</td><td>Male</td><td>No</td><td>Sat</td><td>Dinner</td><td>3</td></tr><tr><td>17.46</td><td>2.54</td><td>Male</td><td>No</td><td>Sun</td><td>Dinner</td><td>2</td></tr><tr><td>13.94</td><td>3.06</td><td>Male</td><td>No</td><td>Sun</td><td>Dinner</td><td>2</td></tr><tr><td>9.68</td><td>1.32</td><td>Male</td><td>No</td><td>Sun</td><td>Dinner</td><td>2</td></tr><tr><td>30.4</td><td>5.6</td><td>Male</td><td>No</td><td>Sun</td><td>Dinner</td><td>4</td></tr><tr><td>18.29</td><td>3.0</td><td>Male</td><td>No</td><td>Sun</td><td>Dinner</td><td>2</td></tr><tr><td>22.23</td><td>5.0</td><td>Male</td><td>No</td><td>Sun</td><td>Dinner</td><td>2</td></tr><tr><td>32.4</td><td>6.0</td><td>Male</td><td>No</td><td>Sun</td><td>Dinner</td><td>4</td></tr><tr><td>28.55</td><td>2.05</td><td>Male</td><td>No</td><td>Sun</td><td>Dinner</td><td>3</td></tr><tr><td>18.04</td><td>3.0</td><td>Male</td><td>No</td><td>Sun</td><td>Dinner</td><td>2</td></tr><tr><td>12.54</td><td>2.5</td><td>Male</td><td>No</td><td>Sun</td><td>Dinner</td><td>2</td></tr><tr><td>10.29</td><td>2.6</td><td>Female</td><td>No</td><td>Sun</td><td>Dinner</td><td>2</td></tr><tr><td>34.81</td><td>5.2</td><td>Female</td><td>No</td><td>Sun</td><td>Dinner</td><td>4</td></tr><tr><td>9.94</td><td>1.56</td><td>Male</td><td>No</td><td>Sun</td><td>Dinner</td><td>2</td></tr><tr><td>25.56</td><td>4.34</td><td>Male</td><td>No</td><td>Sun</td><td>Dinner</td><td>4</td></tr><tr><td>19.49</td><td>3.51</td><td>Male</td><td>No</td><td>Sun</td><td>Dinner</td><td>2</td></tr><tr><td>38.01</td><td>3.0</td><td>Male</td><td>Yes</td><td>Sat</td><td>Dinner</td><td>4</td></tr><tr><td>26.41</td><td>1.5</td><td>Female</td><td>No</td><td>Sat</td><td>Dinner</td><td>2</td></tr><tr><td>11.24</td><td>1.76</td><td>Male</td><td>Yes</td><td>Sat</td><td>Dinner</td><td>2</td></tr><tr><td>48.27</td><td>6.73</td><td>Male</td><td>No</td><td>Sat</td><td>Dinner</td><td>4</td></tr><tr><td>20.29</td><td>3.21</td><td>Male</td><td>Yes</td><td>Sat</td><td>Dinner</td><td>2</td></tr><tr><td>13.81</td><td>2.0</td><td>Male</td><td>Yes</td><td>Sat</td><td>Dinner</td><td>2</td></tr><tr><td>11.02</td><td>1.98</td><td>Male</td><td>Yes</td><td>Sat</td><td>Dinner</td><td>2</td></tr><tr><td>18.29</td><td>3.76</td><td>Male</td><td>Yes</td><td>Sat</td><td>Dinner</td><td>4</td></tr><tr><td>17.59</td><td>2.64</td><td>Male</td><td>No</td><td>Sat</td><td>Dinner</td><td>3</td></tr><tr><td>20.08</td><td>3.15</td><td>Male</td><td>No</td><td>Sat</td><td>Dinner</td><td>3</td></tr><tr><td>16.45</td><td>2.47</td><td>Female</td><td>No</td><td>Sat</td><td>Dinner</td><td>2</td></tr><tr><td>3.07</td><td>1.0</td><td>Female</td><td>Yes</td><td>Sat</td><td>Dinner</td><td>1</td></tr><tr><td>20.23</td><td>2.01</td><td>Male</td><td>No</td><td>Sat</td><td>Dinner</td><td>2</td></tr><tr><td>15.01</td><td>2.09</td><td>Male</td><td>Yes</td><td>Sat</td><td>Dinner</td><td>2</td></tr><tr><td>12.02</td><td>1.97</td><td>Male</td><td>No</td><td>Sat</td><td>Dinner</td><td>2</td></tr><tr><td>17.07</td><td>3.0</td><td>Female</td><td>No</td><td>Sat</td><td>Dinner</td><td>3</td></tr><tr><td>26.86</td><td>3.14</td><td>Female</td><td>Yes</td><td>Sat</td><td>Dinner</td><td>2</td></tr><tr><td>25.28</td><td>5.0</td><td>Female</td><td>Yes</td><td>Sat</td><td>Dinner</td><td>2</td></tr><tr><td>14.73</td><td>2.2</td><td>Female</td><td>No</td><td>Sat</td><td>Dinner</td><td>2</td></tr><tr><td>10.51</td><td>1.25</td><td>Male</td><td>No</td><td>Sat</td><td>Dinner</td><td>2</td></tr><tr><td>17.92</td><td>3.08</td><td>Male</td><td>Yes</td><td>Sat</td><td>Dinner</td><td>2</td></tr><tr><td>27.2</td><td>4.0</td><td>Male</td><td>No</td><td>Thur</td><td>Lunch</td><td>4</td></tr><tr><td>22.76</td><td>3.0</td><td>Male</td><td>No</td><td>Thur</td><td>Lunch</td><td>2</td></tr><tr><td>17.29</td><td>2.71</td><td>Male</td><td>No</td><td>Thur</td><td>Lunch</td><td>2</td></tr><tr><td>19.44</td><td>3.0</td><td>Male</td><td>Yes</td><td>Thur</td><td>Lunch</td><td>2</td></tr><tr><td>16.66</td><td>3.4</td><td>Male</td><td>No</td><td>Thur</td><td>Lunch</td><td>2</td></tr><tr><td>10.07</td><td>1.83</td><td>Female</td><td>No</td><td>Thur</td><td>Lunch</td><td>1</td></tr><tr><td>32.68</td><td>5.0</td><td>Male</td><td>Yes</td><td>Thur</td><td>Lunch</td><td>2</td></tr><tr><td>15.98</td><td>2.03</td><td>Male</td><td>No</td><td>Thur</td><td>Lunch</td><td>2</td></tr><tr><td>34.83</td><td>5.17</td><td>Female</td><td>No</td><td>Thur</td><td>Lunch</td><td>4</td></tr><tr><td>13.03</td><td>2.0</td><td>Male</td><td>No</td><td>Thur</td><td>Lunch</td><td>2</td></tr><tr><td>18.28</td><td>4.0</td><td>Male</td><td>No</td><td>Thur</td><td>Lunch</td><td>2</td></tr><tr><td>24.71</td><td>5.85</td><td>Male</td><td>No</td><td>Thur</td><td>Lunch</td><td>2</td></tr><tr><td>21.16</td><td>3.0</td><td>Male</td><td>No</td><td>Thur</td><td>Lunch</td><td>2</td></tr><tr><td>28.97</td><td>3.0</td><td>Male</td><td>Yes</td><td>Fri</td><td>Dinner</td><td>2</td></tr><tr><td>22.49</td><td>3.5</td><td>Male</td><td>No</td><td>Fri</td><td>Dinner</td><td>2</td></tr><tr><td>5.75</td><td>1.0</td><td>Female</td><td>Yes</td><td>Fri</td><td>Dinner</td><td>2</td></tr><tr><td>16.32</td><td>4.3</td><td>Female</td><td>Yes</td><td>Fri</td><td>Dinner</td><td>2</td></tr><tr><td>22.75</td><td>3.25</td><td>Female</td><td>No</td><td>Fri</td><td>Dinner</td><td>2</td></tr><tr><td>40.17</td><td>4.73</td><td>Male</td><td>Yes</td><td>Fri</td><td>Dinner</td><td>4</td></tr><tr><td>27.28</td><td>4.0</td><td>Male</td><td>Yes</td><td>Fri</td><td>Dinner</td><td>2</td></tr><tr><td>12.03</td><td>1.5</td><td>Male</td><td>Yes</td><td>Fri</td><td>Dinner</td><td>2</td></tr><tr><td>21.01</td><td>3.0</td><td>Male</td><td>Yes</td><td>Fri</td><td>Dinner</td><td>2</td></tr><tr><td>12.46</td><td>1.5</td><td>Male</td><td>No</td><td>Fri</td><td>Dinner</td><td>2</td></tr><tr><td>11.35</td><td>2.5</td><td>Female</td><td>Yes</td><td>Fri</td><td>Dinner</td><td>2</td></tr><tr><td>15.38</td><td>3.0</td><td>Female</td><td>Yes</td><td>Fri</td><td>Dinner</td><td>2</td></tr><tr><td>44.3</td><td>2.5</td><td>Female</td><td>Yes</td><td>Sat</td><td>Dinner</td><td>3</td></tr><tr><td>22.42</td><td>3.48</td><td>Female</td><td>Yes</td><td>Sat</td><td>Dinner</td><td>2</td></tr><tr><td>20.92</td><td>4.08</td><td>Female</td><td>No</td><td>Sat</td><td>Dinner</td><td>2</td></tr><tr><td>15.36</td><td>1.64</td><td>Male</td><td>Yes</td><td>Sat</td><td>Dinner</td><td>2</td></tr><tr><td>20.49</td><td>4.06</td><td>Male</td><td>Yes</td><td>Sat</td><td>Dinner</td><td>2</td></tr><tr><td>25.21</td><td>4.29</td><td>Male</td><td>Yes</td><td>Sat</td><td>Dinner</td><td>2</td></tr><tr><td>18.24</td><td>3.76</td><td>Male</td><td>No</td><td>Sat</td><td>Dinner</td><td>2</td></tr><tr><td>14.31</td><td>4.0</td><td>Female</td><td>Yes</td><td>Sat</td><td>Dinner</td><td>2</td></tr><tr><td>14.0</td><td>3.0</td><td>Male</td><td>No</td><td>Sat</td><td>Dinner</td><td>2</td></tr><tr><td>7.25</td><td>1.0</td><td>Female</td><td>No</td><td>Sat</td><td>Dinner</td><td>1</td></tr><tr><td>38.07</td><td>4.0</td><td>Male</td><td>No</td><td>Sun</td><td>Dinner</td><td>3</td></tr><tr><td>23.95</td><td>2.55</td><td>Male</td><td>No</td><td>Sun</td><td>Dinner</td><td>2</td></tr><tr><td>25.71</td><td>4.0</td><td>Female</td><td>No</td><td>Sun</td><td>Dinner</td><td>3</td></tr><tr><td>17.31</td><td>3.5</td><td>Female</td><td>No</td><td>Sun</td><td>Dinner</td><td>2</td></tr><tr><td>29.93</td><td>5.07</td><td>Male</td><td>No</td><td>Sun</td><td>Dinner</td><td>4</td></tr><tr><td>10.65</td><td>1.5</td><td>Female</td><td>No</td><td>Thur</td><td>Lunch</td><td>2</td></tr><tr><td>12.43</td><td>1.8</td><td>Female</td><td>No</td><td>Thur</td><td>Lunch</td><td>2</td></tr><tr><td>24.08</td><td>2.92</td><td>Female</td><td>No</td><td>Thur</td><td>Lunch</td><td>4</td></tr><tr><td>11.69</td><td>2.31</td><td>Male</td><td>No</td><td>Thur</td><td>Lunch</td><td>2</td></tr><tr><td>13.42</td><td>1.68</td><td>Female</td><td>No</td><td>Thur</td><td>Lunch</td><td>2</td></tr><tr><td>14.26</td><td>2.5</td><td>Male</td><td>No</td><td>Thur</td><td>Lunch</td><td>2</td></tr><tr><td>15.95</td><td>2.0</td><td>Male</td><td>No</td><td>Thur</td><td>Lunch</td><td>2</td></tr><tr><td>12.48</td><td>2.52</td><td>Female</td><td>No</td><td>Thur</td><td>Lunch</td><td>2</td></tr><tr><td>29.8</td><td>4.2</td><td>Female</td><td>No</td><td>Thur</td><td>Lunch</td><td>6</td></tr><tr><td>8.52</td><td>1.48</td><td>Male</td><td>No</td><td>Thur</td><td>Lunch</td><td>2</td></tr><tr><td>14.52</td><td>2.0</td><td>Female</td><td>No</td><td>Thur</td><td>Lunch</td><td>2</td></tr><tr><td>11.38</td><td>2.0</td><td>Female</td><td>No</td><td>Thur</td><td>Lunch</td><td>2</td></tr><tr><td>22.82</td><td>2.18</td><td>Male</td><td>No</td><td>Thur</td><td>Lunch</td><td>3</td></tr><tr><td>19.08</td><td>1.5</td><td>Male</td><td>No</td><td>Thur</td><td>Lunch</td><td>2</td></tr><tr><td>20.27</td><td>2.83</td><td>Female</td><td>No</td><td>Thur</td><td>Lunch</td><td>2</td></tr><tr><td>11.17</td><td>1.5</td><td>Female</td><td>No</td><td>Thur</td><td>Lunch</td><td>2</td></tr><tr><td>12.26</td><td>2.0</td><td>Female</td><td>No</td><td>Thur</td><td>Lunch</td><td>2</td></tr><tr><td>18.26</td><td>3.25</td><td>Female</td><td>No</td><td>Thur</td><td>Lunch</td><td>2</td></tr><tr><td>8.51</td><td>1.25</td><td>Female</td><td>No</td><td>Thur</td><td>Lunch</td><td>2</td></tr><tr><td>10.33</td><td>2.0</td><td>Female</td><td>No</td><td>Thur</td><td>Lunch</td><td>2</td></tr><tr><td>14.15</td><td>2.0</td><td>Female</td><td>No</td><td>Thur</td><td>Lunch</td><td>2</td></tr><tr><td>16.0</td><td>2.0</td><td>Male</td><td>Yes</td><td>Thur</td><td>Lunch</td><td>2</td></tr><tr><td>13.16</td><td>2.75</td><td>Female</td><td>No</td><td>Thur</td><td>Lunch</td><td>2</td></tr><tr><td>17.47</td><td>3.5</td><td>Female</td><td>No</td><td>Thur</td><td>Lunch</td><td>2</td></tr><tr><td>34.3</td><td>6.7</td><td>Male</td><td>No</td><td>Thur</td><td>Lunch</td><td>6</td></tr><tr><td>41.19</td><td>5.0</td><td>Male</td><td>No</td><td>Thur</td><td>Lunch</td><td>5</td></tr><tr><td>27.05</td><td>5.0</td><td>Female</td><td>No</td><td>Thur</td><td>Lunch</td><td>6</td></tr><tr><td>16.43</td><td>2.3</td><td>Female</td><td>No</td><td>Thur</td><td>Lunch</td><td>2</td></tr><tr><td>8.35</td><td>1.5</td><td>Female</td><td>No</td><td>Thur</td><td>Lunch</td><td>2</td></tr><tr><td>18.64</td><td>1.36</td><td>Female</td><td>No</td><td>Thur</td><td>Lunch</td><td>3</td></tr><tr><td>11.87</td><td>1.63</td><td>Female</td><td>No</td><td>Thur</td><td>Lunch</td><td>2</td></tr><tr><td>9.78</td><td>1.73</td><td>Male</td><td>No</td><td>Thur</td><td>Lunch</td><td>2</td></tr><tr><td>7.51</td><td>2.0</td><td>Male</td><td>No</td><td>Thur</td><td>Lunch</td><td>2</td></tr><tr><td>14.07</td><td>2.5</td><td>Male</td><td>No</td><td>Sun</td><td>Dinner</td><td>2</td></tr><tr><td>13.13</td><td>2.0</td><td>Male</td><td>No</td><td>Sun</td><td>Dinner</td><td>2</td></tr><tr><td>17.26</td><td>2.74</td><td>Male</td><td>No</td><td>Sun</td><td>Dinner</td><td>3</td></tr><tr><td>24.55</td><td>2.0</td><td>Male</td><td>No</td><td>Sun</td><td>Dinner</td><td>4</td></tr><tr><td>19.77</td><td>2.0</td><td>Male</td><td>No</td><td>Sun</td><td>Dinner</td><td>4</td></tr><tr><td>29.85</td><td>5.14</td><td>Female</td><td>No</td><td>Sun</td><td>Dinner</td><td>5</td></tr><tr><td>48.17</td><td>5.0</td><td>Male</td><td>No</td><td>Sun</td><td>Dinner</td><td>6</td></tr><tr><td>25.0</td><td>3.75</td><td>Female</td><td>No</td><td>Sun</td><td>Dinner</td><td>4</td></tr><tr><td>13.39</td><td>2.61</td><td>Female</td><td>No</td><td>Sun</td><td>Dinner</td><td>2</td></tr><tr><td>16.49</td><td>2.0</td><td>Male</td><td>No</td><td>Sun</td><td>Dinner</td><td>4</td></tr><tr><td>21.5</td><td>3.5</td><td>Male</td><td>No</td><td>Sun</td><td>Dinner</td><td>4</td></tr><tr><td>12.66</td><td>2.5</td><td>Male</td><td>No</td><td>Sun</td><td>Dinner</td><td>2</td></tr><tr><td>16.21</td><td>2.0</td><td>Female</td><td>No</td><td>Sun</td><td>Dinner</td><td>3</td></tr><tr><td>13.81</td><td>2.0</td><td>Male</td><td>No</td><td>Sun</td><td>Dinner</td><td>2</td></tr><tr><td>17.51</td><td>3.0</td><td>Female</td><td>Yes</td><td>Sun</td><td>Dinner</td><td>2</td></tr><tr><td>24.52</td><td>3.48</td><td>Male</td><td>No</td><td>Sun</td><td>Dinner</td><td>3</td></tr><tr><td>20.76</td><td>2.24</td><td>Male</td><td>No</td><td>Sun</td><td>Dinner</td><td>2</td></tr><tr><td>31.71</td><td>4.5</td><td>Male</td><td>No</td><td>Sun</td><td>Dinner</td><td>4</td></tr><tr><td>10.59</td><td>1.61</td><td>Female</td><td>Yes</td><td>Sat</td><td>Dinner</td><td>2</td></tr><tr><td>10.63</td><td>2.0</td><td>Female</td><td>Yes</td><td>Sat</td><td>Dinner</td><td>2</td></tr><tr><td>50.81</td><td>10.0</td><td>Male</td><td>Yes</td><td>Sat</td><td>Dinner</td><td>3</td></tr><tr><td>15.81</td><td>3.16</td><td>Male</td><td>Yes</td><td>Sat</td><td>Dinner</td><td>2</td></tr><tr><td>7.25</td><td>5.15</td><td>Male</td><td>Yes</td><td>Sun</td><td>Dinner</td><td>2</td></tr><tr><td>31.85</td><td>3.18</td><td>Male</td><td>Yes</td><td>Sun</td><td>Dinner</td><td>2</td></tr><tr><td>16.82</td><td>4.0</td><td>Male</td><td>Yes</td><td>Sun</td><td>Dinner</td><td>2</td></tr><tr><td>32.9</td><td>3.11</td><td>Male</td><td>Yes</td><td>Sun</td><td>Dinner</td><td>2</td></tr><tr><td>17.89</td><td>2.0</td><td>Male</td><td>Yes</td><td>Sun</td><td>Dinner</td><td>2</td></tr><tr><td>14.48</td><td>2.0</td><td>Male</td><td>Yes</td><td>Sun</td><td>Dinner</td><td>2</td></tr><tr><td>9.6</td><td>4.0</td><td>Female</td><td>Yes</td><td>Sun</td><td>Dinner</td><td>2</td></tr><tr><td>34.63</td><td>3.55</td><td>Male</td><td>Yes</td><td>Sun</td><td>Dinner</td><td>2</td></tr><tr><td>34.65</td><td>3.68</td><td>Male</td><td>Yes</td><td>Sun</td><td>Dinner</td><td>4</td></tr><tr><td>23.33</td><td>5.65</td><td>Male</td><td>Yes</td><td>Sun</td><td>Dinner</td><td>2</td></tr><tr><td>45.35</td><td>3.5</td><td>Male</td><td>Yes</td><td>Sun</td><td>Dinner</td><td>3</td></tr><tr><td>23.17</td><td>6.5</td><td>Male</td><td>Yes</td><td>Sun</td><td>Dinner</td><td>4</td></tr><tr><td>40.55</td><td>3.0</td><td>Male</td><td>Yes</td><td>Sun</td><td>Dinner</td><td>2</td></tr><tr><td>20.69</td><td>5.0</td><td>Male</td><td>No</td><td>Sun</td><td>Dinner</td><td>5</td></tr><tr><td>20.9</td><td>3.5</td><td>Female</td><td>Yes</td><td>Sun</td><td>Dinner</td><td>3</td></tr><tr><td>30.46</td><td>2.0</td><td>Male</td><td>Yes</td><td>Sun</td><td>Dinner</td><td>5</td></tr><tr><td>18.15</td><td>3.5</td><td>Female</td><td>Yes</td><td>Sun</td><td>Dinner</td><td>3</td></tr><tr><td>23.1</td><td>4.0</td><td>Male</td><td>Yes</td><td>Sun</td><td>Dinner</td><td>3</td></tr><tr><td>15.69</td><td>1.5</td><td>Male</td><td>Yes</td><td>Sun</td><td>Dinner</td><td>2</td></tr><tr><td>19.81</td><td>4.19</td><td>Female</td><td>Yes</td><td>Thur</td><td>Lunch</td><td>2</td></tr><tr><td>28.44</td><td>2.56</td><td>Male</td><td>Yes</td><td>Thur</td><td>Lunch</td><td>2</td></tr><tr><td>15.48</td><td>2.02</td><td>Male</td><td>Yes</td><td>Thur</td><td>Lunch</td><td>2</td></tr><tr><td>16.58</td><td>4.0</td><td>Male</td><td>Yes</td><td>Thur</td><td>Lunch</td><td>2</td></tr><tr><td>7.56</td><td>1.44</td><td>Male</td><td>No</td><td>Thur</td><td>Lunch</td><td>2</td></tr><tr><td>10.34</td><td>2.0</td><td>Male</td><td>Yes</td><td>Thur</td><td>Lunch</td><td>2</td></tr><tr><td>43.11</td><td>5.0</td><td>Female</td><td>Yes</td><td>Thur</td><td>Lunch</td><td>4</td></tr><tr><td>13.0</td><td>2.0</td><td>Female</td><td>Yes</td><td>Thur</td><td>Lunch</td><td>2</td></tr><tr><td>13.51</td><td>2.0</td><td>Male</td><td>Yes</td><td>Thur</td><td>Lunch</td><td>2</td></tr><tr><td>18.71</td><td>4.0</td><td>Male</td><td>Yes</td><td>Thur</td><td>Lunch</td><td>3</td></tr><tr><td>12.74</td><td>2.01</td><td>Female</td><td>Yes</td><td>Thur</td><td>Lunch</td><td>2</td></tr><tr><td>13.0</td><td>2.0</td><td>Female</td><td>Yes</td><td>Thur</td><td>Lunch</td><td>2</td></tr><tr><td>16.4</td><td>2.5</td><td>Female</td><td>Yes</td><td>Thur</td><td>Lunch</td><td>2</td></tr><tr><td>20.53</td><td>4.0</td><td>Male</td><td>Yes</td><td>Thur</td><td>Lunch</td><td>4</td></tr><tr><td>16.47</td><td>3.23</td><td>Female</td><td>Yes</td><td>Thur</td><td>Lunch</td><td>3</td></tr><tr><td>26.59</td><td>3.41</td><td>Male</td><td>Yes</td><td>Sat</td><td>Dinner</td><td>3</td></tr><tr><td>38.73</td><td>3.0</td><td>Male</td><td>Yes</td><td>Sat</td><td>Dinner</td><td>4</td></tr><tr><td>24.27</td><td>2.03</td><td>Male</td><td>Yes</td><td>Sat</td><td>Dinner</td><td>2</td></tr><tr><td>12.76</td><td>2.23</td><td>Female</td><td>Yes</td><td>Sat</td><td>Dinner</td><td>2</td></tr><tr><td>30.06</td><td>2.0</td><td>Male</td><td>Yes</td><td>Sat</td><td>Dinner</td><td>3</td></tr><tr><td>25.89</td><td>5.16</td><td>Male</td><td>Yes</td><td>Sat</td><td>Dinner</td><td>4</td></tr><tr><td>48.33</td><td>9.0</td><td>Male</td><td>No</td><td>Sat</td><td>Dinner</td><td>4</td></tr><tr><td>13.27</td><td>2.5</td><td>Female</td><td>Yes</td><td>Sat</td><td>Dinner</td><td>2</td></tr><tr><td>28.17</td><td>6.5</td><td>Female</td><td>Yes</td><td>Sat</td><td>Dinner</td><td>3</td></tr><tr><td>12.9</td><td>1.1</td><td>Female</td><td>Yes</td><td>Sat</td><td>Dinner</td><td>2</td></tr><tr><td>28.15</td><td>3.0</td><td>Male</td><td>Yes</td><td>Sat</td><td>Dinner</td><td>5</td></tr><tr><td>11.59</td><td>1.5</td><td>Male</td><td>Yes</td><td>Sat</td><td>Dinner</td><td>2</td></tr><tr><td>7.74</td><td>1.44</td><td>Male</td><td>Yes</td><td>Sat</td><td>Dinner</td><td>2</td></tr><tr><td>30.14</td><td>3.09</td><td>Female</td><td>Yes</td><td>Sat</td><td>Dinner</td><td>4</td></tr><tr><td>12.16</td><td>2.2</td><td>Male</td><td>Yes</td><td>Fri</td><td>Lunch</td><td>2</td></tr><tr><td>13.42</td><td>3.48</td><td>Female</td><td>Yes</td><td>Fri</td><td>Lunch</td><td>2</td></tr><tr><td>8.58</td><td>1.92</td><td>Male</td><td>Yes</td><td>Fri</td><td>Lunch</td><td>1</td></tr><tr><td>15.98</td><td>3.0</td><td>Female</td><td>No</td><td>Fri</td><td>Lunch</td><td>3</td></tr><tr><td>13.42</td><td>1.58</td><td>Male</td><td>Yes</td><td>Fri</td><td>Lunch</td><td>2</td></tr><tr><td>16.27</td><td>2.5</td><td>Female</td><td>Yes</td><td>Fri</td><td>Lunch</td><td>2</td></tr><tr><td>10.09</td><td>2.0</td><td>Female</td><td>Yes</td><td>Fri</td><td>Lunch</td><td>2</td></tr><tr><td>20.45</td><td>3.0</td><td>Male</td><td>No</td><td>Sat</td><td>Dinner</td><td>4</td></tr><tr><td>13.28</td><td>2.72</td><td>Male</td><td>No</td><td>Sat</td><td>Dinner</td><td>2</td></tr><tr><td>22.12</td><td>2.88</td><td>Female</td><td>Yes</td><td>Sat</td><td>Dinner</td><td>2</td></tr><tr><td>24.01</td><td>2.0</td><td>Male</td><td>Yes</td><td>Sat</td><td>Dinner</td><td>4</td></tr><tr><td>15.69</td><td>3.0</td><td>Male</td><td>Yes</td><td>Sat</td><td>Dinner</td><td>3</td></tr><tr><td>11.61</td><td>3.39</td><td>Male</td><td>No</td><td>Sat</td><td>Dinner</td><td>2</td></tr><tr><td>10.77</td><td>1.47</td><td>Male</td><td>No</td><td>Sat</td><td>Dinner</td><td>2</td></tr><tr><td>15.53</td><td>3.0</td><td>Male</td><td>Yes</td><td>Sat</td><td>Dinner</td><td>2</td></tr><tr><td>10.07</td><td>1.25</td><td>Male</td><td>No</td><td>Sat</td><td>Dinner</td><td>2</td></tr><tr><td>12.6</td><td>1.0</td><td>Male</td><td>Yes</td><td>Sat</td><td>Dinner</td><td>2</td></tr><tr><td>32.83</td><td>1.17</td><td>Male</td><td>Yes</td><td>Sat</td><td>Dinner</td><td>2</td></tr><tr><td>35.83</td><td>4.67</td><td>Female</td><td>No</td><td>Sat</td><td>Dinner</td><td>3</td></tr><tr><td>29.03</td><td>5.92</td><td>Male</td><td>No</td><td>Sat</td><td>Dinner</td><td>3</td></tr><tr><td>27.18</td><td>2.0</td><td>Female</td><td>Yes</td><td>Sat</td><td>Dinner</td><td>2</td></tr><tr><td>22.67</td><td>2.0</td><td>Male</td><td>Yes</td><td>Sat</td><td>Dinner</td><td>2</td></tr><tr><td>17.82</td><td>1.75</td><td>Male</td><td>No</td><td>Sat</td><td>Dinner</td><td>2</td></tr><tr><td>18.78</td><td>3.0</td><td>Female</td><td>No</td><td>Thur</td><td>Dinner</td><td>2</td></tr></tbody></table></div>"
      ]
     },
     "metadata": {
      "application/vnd.databricks.v1+output": {
       "addedWidgets": {},
       "aggData": [],
       "aggError": "",
       "aggOverflow": false,
       "aggSchema": [],
       "aggSeriesLimitReached": false,
       "aggType": "",
       "arguments": {},
       "columnCustomDisplayInfos": {},
       "data": [
        [
         16.99,
         1.01,
         "Female",
         "No",
         "Sun",
         "Dinner",
         2
        ],
        [
         10.34,
         1.66,
         "Male",
         "No",
         "Sun",
         "Dinner",
         3
        ],
        [
         21.01,
         3.5,
         "Male",
         "No",
         "Sun",
         "Dinner",
         3
        ],
        [
         23.68,
         3.31,
         "Male",
         "No",
         "Sun",
         "Dinner",
         2
        ],
        [
         24.59,
         3.61,
         "Female",
         "No",
         "Sun",
         "Dinner",
         4
        ],
        [
         25.29,
         4.71,
         "Male",
         "No",
         "Sun",
         "Dinner",
         4
        ],
        [
         8.77,
         2.0,
         "Male",
         "No",
         "Sun",
         "Dinner",
         2
        ],
        [
         26.88,
         3.12,
         "Male",
         "No",
         "Sun",
         "Dinner",
         4
        ],
        [
         15.04,
         1.96,
         "Male",
         "No",
         "Sun",
         "Dinner",
         2
        ],
        [
         14.78,
         3.23,
         "Male",
         "No",
         "Sun",
         "Dinner",
         2
        ],
        [
         10.27,
         1.71,
         "Male",
         "No",
         "Sun",
         "Dinner",
         2
        ],
        [
         35.26,
         5.0,
         "Female",
         "No",
         "Sun",
         "Dinner",
         4
        ],
        [
         15.42,
         1.57,
         "Male",
         "No",
         "Sun",
         "Dinner",
         2
        ],
        [
         18.43,
         3.0,
         "Male",
         "No",
         "Sun",
         "Dinner",
         4
        ],
        [
         14.83,
         3.02,
         "Female",
         "No",
         "Sun",
         "Dinner",
         2
        ],
        [
         21.58,
         3.92,
         "Male",
         "No",
         "Sun",
         "Dinner",
         2
        ],
        [
         10.33,
         1.67,
         "Female",
         "No",
         "Sun",
         "Dinner",
         3
        ],
        [
         16.29,
         3.71,
         "Male",
         "No",
         "Sun",
         "Dinner",
         3
        ],
        [
         16.97,
         3.5,
         "Female",
         "No",
         "Sun",
         "Dinner",
         3
        ],
        [
         20.65,
         3.35,
         "Male",
         "No",
         "Sat",
         "Dinner",
         3
        ],
        [
         17.92,
         4.08,
         "Male",
         "No",
         "Sat",
         "Dinner",
         2
        ],
        [
         20.29,
         2.75,
         "Female",
         "No",
         "Sat",
         "Dinner",
         2
        ],
        [
         15.77,
         2.23,
         "Female",
         "No",
         "Sat",
         "Dinner",
         2
        ],
        [
         39.42,
         7.58,
         "Male",
         "No",
         "Sat",
         "Dinner",
         4
        ],
        [
         19.82,
         3.18,
         "Male",
         "No",
         "Sat",
         "Dinner",
         2
        ],
        [
         17.81,
         2.34,
         "Male",
         "No",
         "Sat",
         "Dinner",
         4
        ],
        [
         13.37,
         2.0,
         "Male",
         "No",
         "Sat",
         "Dinner",
         2
        ],
        [
         12.69,
         2.0,
         "Male",
         "No",
         "Sat",
         "Dinner",
         2
        ],
        [
         21.7,
         4.3,
         "Male",
         "No",
         "Sat",
         "Dinner",
         2
        ],
        [
         19.65,
         3.0,
         "Female",
         "No",
         "Sat",
         "Dinner",
         2
        ],
        [
         9.55,
         1.45,
         "Male",
         "No",
         "Sat",
         "Dinner",
         2
        ],
        [
         18.35,
         2.5,
         "Male",
         "No",
         "Sat",
         "Dinner",
         4
        ],
        [
         15.06,
         3.0,
         "Female",
         "No",
         "Sat",
         "Dinner",
         2
        ],
        [
         20.69,
         2.45,
         "Female",
         "No",
         "Sat",
         "Dinner",
         4
        ],
        [
         17.78,
         3.27,
         "Male",
         "No",
         "Sat",
         "Dinner",
         2
        ],
        [
         24.06,
         3.6,
         "Male",
         "No",
         "Sat",
         "Dinner",
         3
        ],
        [
         16.31,
         2.0,
         "Male",
         "No",
         "Sat",
         "Dinner",
         3
        ],
        [
         16.93,
         3.07,
         "Female",
         "No",
         "Sat",
         "Dinner",
         3
        ],
        [
         18.69,
         2.31,
         "Male",
         "No",
         "Sat",
         "Dinner",
         3
        ],
        [
         31.27,
         5.0,
         "Male",
         "No",
         "Sat",
         "Dinner",
         3
        ],
        [
         16.04,
         2.24,
         "Male",
         "No",
         "Sat",
         "Dinner",
         3
        ],
        [
         17.46,
         2.54,
         "Male",
         "No",
         "Sun",
         "Dinner",
         2
        ],
        [
         13.94,
         3.06,
         "Male",
         "No",
         "Sun",
         "Dinner",
         2
        ],
        [
         9.68,
         1.32,
         "Male",
         "No",
         "Sun",
         "Dinner",
         2
        ],
        [
         30.4,
         5.6,
         "Male",
         "No",
         "Sun",
         "Dinner",
         4
        ],
        [
         18.29,
         3.0,
         "Male",
         "No",
         "Sun",
         "Dinner",
         2
        ],
        [
         22.23,
         5.0,
         "Male",
         "No",
         "Sun",
         "Dinner",
         2
        ],
        [
         32.4,
         6.0,
         "Male",
         "No",
         "Sun",
         "Dinner",
         4
        ],
        [
         28.55,
         2.05,
         "Male",
         "No",
         "Sun",
         "Dinner",
         3
        ],
        [
         18.04,
         3.0,
         "Male",
         "No",
         "Sun",
         "Dinner",
         2
        ],
        [
         12.54,
         2.5,
         "Male",
         "No",
         "Sun",
         "Dinner",
         2
        ],
        [
         10.29,
         2.6,
         "Female",
         "No",
         "Sun",
         "Dinner",
         2
        ],
        [
         34.81,
         5.2,
         "Female",
         "No",
         "Sun",
         "Dinner",
         4
        ],
        [
         9.94,
         1.56,
         "Male",
         "No",
         "Sun",
         "Dinner",
         2
        ],
        [
         25.56,
         4.34,
         "Male",
         "No",
         "Sun",
         "Dinner",
         4
        ],
        [
         19.49,
         3.51,
         "Male",
         "No",
         "Sun",
         "Dinner",
         2
        ],
        [
         38.01,
         3.0,
         "Male",
         "Yes",
         "Sat",
         "Dinner",
         4
        ],
        [
         26.41,
         1.5,
         "Female",
         "No",
         "Sat",
         "Dinner",
         2
        ],
        [
         11.24,
         1.76,
         "Male",
         "Yes",
         "Sat",
         "Dinner",
         2
        ],
        [
         48.27,
         6.73,
         "Male",
         "No",
         "Sat",
         "Dinner",
         4
        ],
        [
         20.29,
         3.21,
         "Male",
         "Yes",
         "Sat",
         "Dinner",
         2
        ],
        [
         13.81,
         2.0,
         "Male",
         "Yes",
         "Sat",
         "Dinner",
         2
        ],
        [
         11.02,
         1.98,
         "Male",
         "Yes",
         "Sat",
         "Dinner",
         2
        ],
        [
         18.29,
         3.76,
         "Male",
         "Yes",
         "Sat",
         "Dinner",
         4
        ],
        [
         17.59,
         2.64,
         "Male",
         "No",
         "Sat",
         "Dinner",
         3
        ],
        [
         20.08,
         3.15,
         "Male",
         "No",
         "Sat",
         "Dinner",
         3
        ],
        [
         16.45,
         2.47,
         "Female",
         "No",
         "Sat",
         "Dinner",
         2
        ],
        [
         3.07,
         1.0,
         "Female",
         "Yes",
         "Sat",
         "Dinner",
         1
        ],
        [
         20.23,
         2.01,
         "Male",
         "No",
         "Sat",
         "Dinner",
         2
        ],
        [
         15.01,
         2.09,
         "Male",
         "Yes",
         "Sat",
         "Dinner",
         2
        ],
        [
         12.02,
         1.97,
         "Male",
         "No",
         "Sat",
         "Dinner",
         2
        ],
        [
         17.07,
         3.0,
         "Female",
         "No",
         "Sat",
         "Dinner",
         3
        ],
        [
         26.86,
         3.14,
         "Female",
         "Yes",
         "Sat",
         "Dinner",
         2
        ],
        [
         25.28,
         5.0,
         "Female",
         "Yes",
         "Sat",
         "Dinner",
         2
        ],
        [
         14.73,
         2.2,
         "Female",
         "No",
         "Sat",
         "Dinner",
         2
        ],
        [
         10.51,
         1.25,
         "Male",
         "No",
         "Sat",
         "Dinner",
         2
        ],
        [
         17.92,
         3.08,
         "Male",
         "Yes",
         "Sat",
         "Dinner",
         2
        ],
        [
         27.2,
         4.0,
         "Male",
         "No",
         "Thur",
         "Lunch",
         4
        ],
        [
         22.76,
         3.0,
         "Male",
         "No",
         "Thur",
         "Lunch",
         2
        ],
        [
         17.29,
         2.71,
         "Male",
         "No",
         "Thur",
         "Lunch",
         2
        ],
        [
         19.44,
         3.0,
         "Male",
         "Yes",
         "Thur",
         "Lunch",
         2
        ],
        [
         16.66,
         3.4,
         "Male",
         "No",
         "Thur",
         "Lunch",
         2
        ],
        [
         10.07,
         1.83,
         "Female",
         "No",
         "Thur",
         "Lunch",
         1
        ],
        [
         32.68,
         5.0,
         "Male",
         "Yes",
         "Thur",
         "Lunch",
         2
        ],
        [
         15.98,
         2.03,
         "Male",
         "No",
         "Thur",
         "Lunch",
         2
        ],
        [
         34.83,
         5.17,
         "Female",
         "No",
         "Thur",
         "Lunch",
         4
        ],
        [
         13.03,
         2.0,
         "Male",
         "No",
         "Thur",
         "Lunch",
         2
        ],
        [
         18.28,
         4.0,
         "Male",
         "No",
         "Thur",
         "Lunch",
         2
        ],
        [
         24.71,
         5.85,
         "Male",
         "No",
         "Thur",
         "Lunch",
         2
        ],
        [
         21.16,
         3.0,
         "Male",
         "No",
         "Thur",
         "Lunch",
         2
        ],
        [
         28.97,
         3.0,
         "Male",
         "Yes",
         "Fri",
         "Dinner",
         2
        ],
        [
         22.49,
         3.5,
         "Male",
         "No",
         "Fri",
         "Dinner",
         2
        ],
        [
         5.75,
         1.0,
         "Female",
         "Yes",
         "Fri",
         "Dinner",
         2
        ],
        [
         16.32,
         4.3,
         "Female",
         "Yes",
         "Fri",
         "Dinner",
         2
        ],
        [
         22.75,
         3.25,
         "Female",
         "No",
         "Fri",
         "Dinner",
         2
        ],
        [
         40.17,
         4.73,
         "Male",
         "Yes",
         "Fri",
         "Dinner",
         4
        ],
        [
         27.28,
         4.0,
         "Male",
         "Yes",
         "Fri",
         "Dinner",
         2
        ],
        [
         12.03,
         1.5,
         "Male",
         "Yes",
         "Fri",
         "Dinner",
         2
        ],
        [
         21.01,
         3.0,
         "Male",
         "Yes",
         "Fri",
         "Dinner",
         2
        ],
        [
         12.46,
         1.5,
         "Male",
         "No",
         "Fri",
         "Dinner",
         2
        ],
        [
         11.35,
         2.5,
         "Female",
         "Yes",
         "Fri",
         "Dinner",
         2
        ],
        [
         15.38,
         3.0,
         "Female",
         "Yes",
         "Fri",
         "Dinner",
         2
        ],
        [
         44.3,
         2.5,
         "Female",
         "Yes",
         "Sat",
         "Dinner",
         3
        ],
        [
         22.42,
         3.48,
         "Female",
         "Yes",
         "Sat",
         "Dinner",
         2
        ],
        [
         20.92,
         4.08,
         "Female",
         "No",
         "Sat",
         "Dinner",
         2
        ],
        [
         15.36,
         1.64,
         "Male",
         "Yes",
         "Sat",
         "Dinner",
         2
        ],
        [
         20.49,
         4.06,
         "Male",
         "Yes",
         "Sat",
         "Dinner",
         2
        ],
        [
         25.21,
         4.29,
         "Male",
         "Yes",
         "Sat",
         "Dinner",
         2
        ],
        [
         18.24,
         3.76,
         "Male",
         "No",
         "Sat",
         "Dinner",
         2
        ],
        [
         14.31,
         4.0,
         "Female",
         "Yes",
         "Sat",
         "Dinner",
         2
        ],
        [
         14.0,
         3.0,
         "Male",
         "No",
         "Sat",
         "Dinner",
         2
        ],
        [
         7.25,
         1.0,
         "Female",
         "No",
         "Sat",
         "Dinner",
         1
        ],
        [
         38.07,
         4.0,
         "Male",
         "No",
         "Sun",
         "Dinner",
         3
        ],
        [
         23.95,
         2.55,
         "Male",
         "No",
         "Sun",
         "Dinner",
         2
        ],
        [
         25.71,
         4.0,
         "Female",
         "No",
         "Sun",
         "Dinner",
         3
        ],
        [
         17.31,
         3.5,
         "Female",
         "No",
         "Sun",
         "Dinner",
         2
        ],
        [
         29.93,
         5.07,
         "Male",
         "No",
         "Sun",
         "Dinner",
         4
        ],
        [
         10.65,
         1.5,
         "Female",
         "No",
         "Thur",
         "Lunch",
         2
        ],
        [
         12.43,
         1.8,
         "Female",
         "No",
         "Thur",
         "Lunch",
         2
        ],
        [
         24.08,
         2.92,
         "Female",
         "No",
         "Thur",
         "Lunch",
         4
        ],
        [
         11.69,
         2.31,
         "Male",
         "No",
         "Thur",
         "Lunch",
         2
        ],
        [
         13.42,
         1.68,
         "Female",
         "No",
         "Thur",
         "Lunch",
         2
        ],
        [
         14.26,
         2.5,
         "Male",
         "No",
         "Thur",
         "Lunch",
         2
        ],
        [
         15.95,
         2.0,
         "Male",
         "No",
         "Thur",
         "Lunch",
         2
        ],
        [
         12.48,
         2.52,
         "Female",
         "No",
         "Thur",
         "Lunch",
         2
        ],
        [
         29.8,
         4.2,
         "Female",
         "No",
         "Thur",
         "Lunch",
         6
        ],
        [
         8.52,
         1.48,
         "Male",
         "No",
         "Thur",
         "Lunch",
         2
        ],
        [
         14.52,
         2.0,
         "Female",
         "No",
         "Thur",
         "Lunch",
         2
        ],
        [
         11.38,
         2.0,
         "Female",
         "No",
         "Thur",
         "Lunch",
         2
        ],
        [
         22.82,
         2.18,
         "Male",
         "No",
         "Thur",
         "Lunch",
         3
        ],
        [
         19.08,
         1.5,
         "Male",
         "No",
         "Thur",
         "Lunch",
         2
        ],
        [
         20.27,
         2.83,
         "Female",
         "No",
         "Thur",
         "Lunch",
         2
        ],
        [
         11.17,
         1.5,
         "Female",
         "No",
         "Thur",
         "Lunch",
         2
        ],
        [
         12.26,
         2.0,
         "Female",
         "No",
         "Thur",
         "Lunch",
         2
        ],
        [
         18.26,
         3.25,
         "Female",
         "No",
         "Thur",
         "Lunch",
         2
        ],
        [
         8.51,
         1.25,
         "Female",
         "No",
         "Thur",
         "Lunch",
         2
        ],
        [
         10.33,
         2.0,
         "Female",
         "No",
         "Thur",
         "Lunch",
         2
        ],
        [
         14.15,
         2.0,
         "Female",
         "No",
         "Thur",
         "Lunch",
         2
        ],
        [
         16.0,
         2.0,
         "Male",
         "Yes",
         "Thur",
         "Lunch",
         2
        ],
        [
         13.16,
         2.75,
         "Female",
         "No",
         "Thur",
         "Lunch",
         2
        ],
        [
         17.47,
         3.5,
         "Female",
         "No",
         "Thur",
         "Lunch",
         2
        ],
        [
         34.3,
         6.7,
         "Male",
         "No",
         "Thur",
         "Lunch",
         6
        ],
        [
         41.19,
         5.0,
         "Male",
         "No",
         "Thur",
         "Lunch",
         5
        ],
        [
         27.05,
         5.0,
         "Female",
         "No",
         "Thur",
         "Lunch",
         6
        ],
        [
         16.43,
         2.3,
         "Female",
         "No",
         "Thur",
         "Lunch",
         2
        ],
        [
         8.35,
         1.5,
         "Female",
         "No",
         "Thur",
         "Lunch",
         2
        ],
        [
         18.64,
         1.36,
         "Female",
         "No",
         "Thur",
         "Lunch",
         3
        ],
        [
         11.87,
         1.63,
         "Female",
         "No",
         "Thur",
         "Lunch",
         2
        ],
        [
         9.78,
         1.73,
         "Male",
         "No",
         "Thur",
         "Lunch",
         2
        ],
        [
         7.51,
         2.0,
         "Male",
         "No",
         "Thur",
         "Lunch",
         2
        ],
        [
         14.07,
         2.5,
         "Male",
         "No",
         "Sun",
         "Dinner",
         2
        ],
        [
         13.13,
         2.0,
         "Male",
         "No",
         "Sun",
         "Dinner",
         2
        ],
        [
         17.26,
         2.74,
         "Male",
         "No",
         "Sun",
         "Dinner",
         3
        ],
        [
         24.55,
         2.0,
         "Male",
         "No",
         "Sun",
         "Dinner",
         4
        ],
        [
         19.77,
         2.0,
         "Male",
         "No",
         "Sun",
         "Dinner",
         4
        ],
        [
         29.85,
         5.14,
         "Female",
         "No",
         "Sun",
         "Dinner",
         5
        ],
        [
         48.17,
         5.0,
         "Male",
         "No",
         "Sun",
         "Dinner",
         6
        ],
        [
         25.0,
         3.75,
         "Female",
         "No",
         "Sun",
         "Dinner",
         4
        ],
        [
         13.39,
         2.61,
         "Female",
         "No",
         "Sun",
         "Dinner",
         2
        ],
        [
         16.49,
         2.0,
         "Male",
         "No",
         "Sun",
         "Dinner",
         4
        ],
        [
         21.5,
         3.5,
         "Male",
         "No",
         "Sun",
         "Dinner",
         4
        ],
        [
         12.66,
         2.5,
         "Male",
         "No",
         "Sun",
         "Dinner",
         2
        ],
        [
         16.21,
         2.0,
         "Female",
         "No",
         "Sun",
         "Dinner",
         3
        ],
        [
         13.81,
         2.0,
         "Male",
         "No",
         "Sun",
         "Dinner",
         2
        ],
        [
         17.51,
         3.0,
         "Female",
         "Yes",
         "Sun",
         "Dinner",
         2
        ],
        [
         24.52,
         3.48,
         "Male",
         "No",
         "Sun",
         "Dinner",
         3
        ],
        [
         20.76,
         2.24,
         "Male",
         "No",
         "Sun",
         "Dinner",
         2
        ],
        [
         31.71,
         4.5,
         "Male",
         "No",
         "Sun",
         "Dinner",
         4
        ],
        [
         10.59,
         1.61,
         "Female",
         "Yes",
         "Sat",
         "Dinner",
         2
        ],
        [
         10.63,
         2.0,
         "Female",
         "Yes",
         "Sat",
         "Dinner",
         2
        ],
        [
         50.81,
         10.0,
         "Male",
         "Yes",
         "Sat",
         "Dinner",
         3
        ],
        [
         15.81,
         3.16,
         "Male",
         "Yes",
         "Sat",
         "Dinner",
         2
        ],
        [
         7.25,
         5.15,
         "Male",
         "Yes",
         "Sun",
         "Dinner",
         2
        ],
        [
         31.85,
         3.18,
         "Male",
         "Yes",
         "Sun",
         "Dinner",
         2
        ],
        [
         16.82,
         4.0,
         "Male",
         "Yes",
         "Sun",
         "Dinner",
         2
        ],
        [
         32.9,
         3.11,
         "Male",
         "Yes",
         "Sun",
         "Dinner",
         2
        ],
        [
         17.89,
         2.0,
         "Male",
         "Yes",
         "Sun",
         "Dinner",
         2
        ],
        [
         14.48,
         2.0,
         "Male",
         "Yes",
         "Sun",
         "Dinner",
         2
        ],
        [
         9.6,
         4.0,
         "Female",
         "Yes",
         "Sun",
         "Dinner",
         2
        ],
        [
         34.63,
         3.55,
         "Male",
         "Yes",
         "Sun",
         "Dinner",
         2
        ],
        [
         34.65,
         3.68,
         "Male",
         "Yes",
         "Sun",
         "Dinner",
         4
        ],
        [
         23.33,
         5.65,
         "Male",
         "Yes",
         "Sun",
         "Dinner",
         2
        ],
        [
         45.35,
         3.5,
         "Male",
         "Yes",
         "Sun",
         "Dinner",
         3
        ],
        [
         23.17,
         6.5,
         "Male",
         "Yes",
         "Sun",
         "Dinner",
         4
        ],
        [
         40.55,
         3.0,
         "Male",
         "Yes",
         "Sun",
         "Dinner",
         2
        ],
        [
         20.69,
         5.0,
         "Male",
         "No",
         "Sun",
         "Dinner",
         5
        ],
        [
         20.9,
         3.5,
         "Female",
         "Yes",
         "Sun",
         "Dinner",
         3
        ],
        [
         30.46,
         2.0,
         "Male",
         "Yes",
         "Sun",
         "Dinner",
         5
        ],
        [
         18.15,
         3.5,
         "Female",
         "Yes",
         "Sun",
         "Dinner",
         3
        ],
        [
         23.1,
         4.0,
         "Male",
         "Yes",
         "Sun",
         "Dinner",
         3
        ],
        [
         15.69,
         1.5,
         "Male",
         "Yes",
         "Sun",
         "Dinner",
         2
        ],
        [
         19.81,
         4.19,
         "Female",
         "Yes",
         "Thur",
         "Lunch",
         2
        ],
        [
         28.44,
         2.56,
         "Male",
         "Yes",
         "Thur",
         "Lunch",
         2
        ],
        [
         15.48,
         2.02,
         "Male",
         "Yes",
         "Thur",
         "Lunch",
         2
        ],
        [
         16.58,
         4.0,
         "Male",
         "Yes",
         "Thur",
         "Lunch",
         2
        ],
        [
         7.56,
         1.44,
         "Male",
         "No",
         "Thur",
         "Lunch",
         2
        ],
        [
         10.34,
         2.0,
         "Male",
         "Yes",
         "Thur",
         "Lunch",
         2
        ],
        [
         43.11,
         5.0,
         "Female",
         "Yes",
         "Thur",
         "Lunch",
         4
        ],
        [
         13.0,
         2.0,
         "Female",
         "Yes",
         "Thur",
         "Lunch",
         2
        ],
        [
         13.51,
         2.0,
         "Male",
         "Yes",
         "Thur",
         "Lunch",
         2
        ],
        [
         18.71,
         4.0,
         "Male",
         "Yes",
         "Thur",
         "Lunch",
         3
        ],
        [
         12.74,
         2.01,
         "Female",
         "Yes",
         "Thur",
         "Lunch",
         2
        ],
        [
         13.0,
         2.0,
         "Female",
         "Yes",
         "Thur",
         "Lunch",
         2
        ],
        [
         16.4,
         2.5,
         "Female",
         "Yes",
         "Thur",
         "Lunch",
         2
        ],
        [
         20.53,
         4.0,
         "Male",
         "Yes",
         "Thur",
         "Lunch",
         4
        ],
        [
         16.47,
         3.23,
         "Female",
         "Yes",
         "Thur",
         "Lunch",
         3
        ],
        [
         26.59,
         3.41,
         "Male",
         "Yes",
         "Sat",
         "Dinner",
         3
        ],
        [
         38.73,
         3.0,
         "Male",
         "Yes",
         "Sat",
         "Dinner",
         4
        ],
        [
         24.27,
         2.03,
         "Male",
         "Yes",
         "Sat",
         "Dinner",
         2
        ],
        [
         12.76,
         2.23,
         "Female",
         "Yes",
         "Sat",
         "Dinner",
         2
        ],
        [
         30.06,
         2.0,
         "Male",
         "Yes",
         "Sat",
         "Dinner",
         3
        ],
        [
         25.89,
         5.16,
         "Male",
         "Yes",
         "Sat",
         "Dinner",
         4
        ],
        [
         48.33,
         9.0,
         "Male",
         "No",
         "Sat",
         "Dinner",
         4
        ],
        [
         13.27,
         2.5,
         "Female",
         "Yes",
         "Sat",
         "Dinner",
         2
        ],
        [
         28.17,
         6.5,
         "Female",
         "Yes",
         "Sat",
         "Dinner",
         3
        ],
        [
         12.9,
         1.1,
         "Female",
         "Yes",
         "Sat",
         "Dinner",
         2
        ],
        [
         28.15,
         3.0,
         "Male",
         "Yes",
         "Sat",
         "Dinner",
         5
        ],
        [
         11.59,
         1.5,
         "Male",
         "Yes",
         "Sat",
         "Dinner",
         2
        ],
        [
         7.74,
         1.44,
         "Male",
         "Yes",
         "Sat",
         "Dinner",
         2
        ],
        [
         30.14,
         3.09,
         "Female",
         "Yes",
         "Sat",
         "Dinner",
         4
        ],
        [
         12.16,
         2.2,
         "Male",
         "Yes",
         "Fri",
         "Lunch",
         2
        ],
        [
         13.42,
         3.48,
         "Female",
         "Yes",
         "Fri",
         "Lunch",
         2
        ],
        [
         8.58,
         1.92,
         "Male",
         "Yes",
         "Fri",
         "Lunch",
         1
        ],
        [
         15.98,
         3.0,
         "Female",
         "No",
         "Fri",
         "Lunch",
         3
        ],
        [
         13.42,
         1.58,
         "Male",
         "Yes",
         "Fri",
         "Lunch",
         2
        ],
        [
         16.27,
         2.5,
         "Female",
         "Yes",
         "Fri",
         "Lunch",
         2
        ],
        [
         10.09,
         2.0,
         "Female",
         "Yes",
         "Fri",
         "Lunch",
         2
        ],
        [
         20.45,
         3.0,
         "Male",
         "No",
         "Sat",
         "Dinner",
         4
        ],
        [
         13.28,
         2.72,
         "Male",
         "No",
         "Sat",
         "Dinner",
         2
        ],
        [
         22.12,
         2.88,
         "Female",
         "Yes",
         "Sat",
         "Dinner",
         2
        ],
        [
         24.01,
         2.0,
         "Male",
         "Yes",
         "Sat",
         "Dinner",
         4
        ],
        [
         15.69,
         3.0,
         "Male",
         "Yes",
         "Sat",
         "Dinner",
         3
        ],
        [
         11.61,
         3.39,
         "Male",
         "No",
         "Sat",
         "Dinner",
         2
        ],
        [
         10.77,
         1.47,
         "Male",
         "No",
         "Sat",
         "Dinner",
         2
        ],
        [
         15.53,
         3.0,
         "Male",
         "Yes",
         "Sat",
         "Dinner",
         2
        ],
        [
         10.07,
         1.25,
         "Male",
         "No",
         "Sat",
         "Dinner",
         2
        ],
        [
         12.6,
         1.0,
         "Male",
         "Yes",
         "Sat",
         "Dinner",
         2
        ],
        [
         32.83,
         1.17,
         "Male",
         "Yes",
         "Sat",
         "Dinner",
         2
        ],
        [
         35.83,
         4.67,
         "Female",
         "No",
         "Sat",
         "Dinner",
         3
        ],
        [
         29.03,
         5.92,
         "Male",
         "No",
         "Sat",
         "Dinner",
         3
        ],
        [
         27.18,
         2.0,
         "Female",
         "Yes",
         "Sat",
         "Dinner",
         2
        ],
        [
         22.67,
         2.0,
         "Male",
         "Yes",
         "Sat",
         "Dinner",
         2
        ],
        [
         17.82,
         1.75,
         "Male",
         "No",
         "Sat",
         "Dinner",
         2
        ],
        [
         18.78,
         3.0,
         "Female",
         "No",
         "Thur",
         "Dinner",
         2
        ]
       ],
       "datasetInfos": [],
       "dbfsResultPath": null,
       "isJsonSchema": true,
       "metadata": {},
       "overflow": false,
       "plotOptions": {
        "customPlotOptions": {},
        "displayType": "table",
        "pivotAggregation": null,
        "pivotColumns": null,
        "xColumns": null,
        "yColumns": null
       },
       "removedWidgets": [],
       "schema": [
        {
         "metadata": "{}",
         "name": "total_bill",
         "type": "\"double\""
        },
        {
         "metadata": "{}",
         "name": "tip",
         "type": "\"double\""
        },
        {
         "metadata": "{}",
         "name": "sex",
         "type": "\"string\""
        },
        {
         "metadata": "{}",
         "name": "smoker",
         "type": "\"string\""
        },
        {
         "metadata": "{}",
         "name": "day",
         "type": "\"string\""
        },
        {
         "metadata": "{}",
         "name": "time",
         "type": "\"string\""
        },
        {
         "metadata": "{}",
         "name": "size",
         "type": "\"integer\""
        }
       ],
       "type": "table"
      }
     },
     "output_type": "display_data"
    }
   ],
   "source": [
    "# File location and type\n",
    "file_location = \"/FileStore/tables/tips.csv\"\n",
    "file_type = \"csv\"\n",
    "\n",
    "# CSV options\n",
    "infer_schema = \"false\"\n",
    "first_row_is_header = \"false\"\n",
    "delimiter = \",\"\n",
    "\n",
    "# The applied options are for CSV files. For other file types, these will be ignored.\n",
    "df = spark.read.csv(file_location,inferSchema=True,header=True)\n",
    "\n",
    "display(df)"
   ]
  },
  {
   "cell_type": "code",
   "execution_count": 0,
   "metadata": {
    "application/vnd.databricks.v1+cell": {
     "cellMetadata": {
      "byteLimit": 2048000,
      "rowLimit": 10000
     },
     "inputWidgets": {},
     "nuid": "bd82bb99-1479-4d5c-be10-8c36df0f1d44",
     "showTitle": false,
     "tableResultSettingsMap": {},
     "title": ""
    }
   },
   "outputs": [
    {
     "output_type": "stream",
     "name": "stdout",
     "output_type": "stream",
     "text": [
      "root\n |-- total_bill: double (nullable = true)\n |-- tip: double (nullable = true)\n |-- sex: string (nullable = true)\n |-- smoker: string (nullable = true)\n |-- day: string (nullable = true)\n |-- time: string (nullable = true)\n |-- size: integer (nullable = true)\n\n"
     ]
    }
   ],
   "source": [
    "##Identify schema\n",
    "df.printSchema()"
   ]
  },
  {
   "cell_type": "code",
   "execution_count": 0,
   "metadata": {
    "application/vnd.databricks.v1+cell": {
     "cellMetadata": {
      "byteLimit": 2048000,
      "rowLimit": 10000
     },
     "inputWidgets": {},
     "nuid": "b5f66379-6f7f-42ec-8e82-d0e0926a1721",
     "showTitle": false,
     "tableResultSettingsMap": {},
     "title": ""
    }
   },
   "outputs": [
    {
     "output_type": "stream",
     "name": "stdout",
     "output_type": "stream",
     "text": [
      "+----------+----+------+------+---+------+----+-----------+--------------+-----------+------------+\n|total_bill| tip|   sex|smoker|day|  time|size|sex_indexed|smoker_indexed|day_indexed|time_indexed|\n+----------+----+------+------+---+------+----+-----------+--------------+-----------+------------+\n|     16.99|1.01|Female|    No|Sun|Dinner|   2|        1.0|           0.0|        1.0|         0.0|\n|     10.34|1.66|  Male|    No|Sun|Dinner|   3|        0.0|           0.0|        1.0|         0.0|\n|     21.01| 3.5|  Male|    No|Sun|Dinner|   3|        0.0|           0.0|        1.0|         0.0|\n|     23.68|3.31|  Male|    No|Sun|Dinner|   2|        0.0|           0.0|        1.0|         0.0|\n|     24.59|3.61|Female|    No|Sun|Dinner|   4|        1.0|           0.0|        1.0|         0.0|\n|     25.29|4.71|  Male|    No|Sun|Dinner|   4|        0.0|           0.0|        1.0|         0.0|\n|      8.77| 2.0|  Male|    No|Sun|Dinner|   2|        0.0|           0.0|        1.0|         0.0|\n|     26.88|3.12|  Male|    No|Sun|Dinner|   4|        0.0|           0.0|        1.0|         0.0|\n|     15.04|1.96|  Male|    No|Sun|Dinner|   2|        0.0|           0.0|        1.0|         0.0|\n|     14.78|3.23|  Male|    No|Sun|Dinner|   2|        0.0|           0.0|        1.0|         0.0|\n|     10.27|1.71|  Male|    No|Sun|Dinner|   2|        0.0|           0.0|        1.0|         0.0|\n|     35.26| 5.0|Female|    No|Sun|Dinner|   4|        1.0|           0.0|        1.0|         0.0|\n|     15.42|1.57|  Male|    No|Sun|Dinner|   2|        0.0|           0.0|        1.0|         0.0|\n|     18.43| 3.0|  Male|    No|Sun|Dinner|   4|        0.0|           0.0|        1.0|         0.0|\n|     14.83|3.02|Female|    No|Sun|Dinner|   2|        1.0|           0.0|        1.0|         0.0|\n|     21.58|3.92|  Male|    No|Sun|Dinner|   2|        0.0|           0.0|        1.0|         0.0|\n|     10.33|1.67|Female|    No|Sun|Dinner|   3|        1.0|           0.0|        1.0|         0.0|\n|     16.29|3.71|  Male|    No|Sun|Dinner|   3|        0.0|           0.0|        1.0|         0.0|\n|     16.97| 3.5|Female|    No|Sun|Dinner|   3|        1.0|           0.0|        1.0|         0.0|\n|     20.65|3.35|  Male|    No|Sat|Dinner|   3|        0.0|           0.0|        0.0|         0.0|\n+----------+----+------+------+---+------+----+-----------+--------------+-----------+------------+\nonly showing top 20 rows\n\n"
     ]
    }
   ],
   "source": [
    "## Handle categorical features\n",
    "from pyspark.ml.feature import StringIndexer  ##Converts string features into Numerical(Ordinal encoding)\n",
    "\n",
    "indexer = StringIndexer(inputCols=['sex','smoker','day','time'],outputCols=['sex_indexed','smoker_indexed','day_indexed','time_indexed'])\n",
    "df_indexed = indexer.fit(df).transform(df)\n",
    "df_indexed.show()\n"
   ]
  },
  {
   "cell_type": "code",
   "execution_count": 0,
   "metadata": {
    "application/vnd.databricks.v1+cell": {
     "cellMetadata": {
      "byteLimit": 2048000,
      "rowLimit": 10000
     },
     "inputWidgets": {},
     "nuid": "db9631f6-bb4a-42ca-8a3c-0d48af932331",
     "showTitle": false,
     "tableResultSettingsMap": {},
     "title": ""
    }
   },
   "outputs": [],
   "source": [
    "##Vector assembler where independent features are combined and the dependent feature is taken seperate\n",
    "\n",
    "from pyspark.ml.feature import VectorAssembler \n",
    "featuresAssembler=VectorAssembler(inputCols=['total_bill','size','sex_indexed','smoker_indexed','day_indexed','time_indexed'],\n",
    "                outputCol='IndependentFeatures')\n",
    "ouput = featuresAssembler.transform(df_indexed)\n"
   ]
  },
  {
   "cell_type": "code",
   "execution_count": 0,
   "metadata": {
    "application/vnd.databricks.v1+cell": {
     "cellMetadata": {
      "byteLimit": 2048000,
      "rowLimit": 10000
     },
     "inputWidgets": {},
     "nuid": "eba83cd7-8375-4f02-9aae-c3e4784ba39d",
     "showTitle": false,
     "tableResultSettingsMap": {},
     "title": ""
    }
   },
   "outputs": [
    {
     "output_type": "stream",
     "name": "stdout",
     "output_type": "stream",
     "text": [
      "+----+--------------------+\n| tip| IndependentFeatures|\n+----+--------------------+\n|1.01|[16.99,2.0,1.0,0....|\n|1.66|[10.34,3.0,0.0,0....|\n| 3.5|[21.01,3.0,0.0,0....|\n|3.31|[23.68,2.0,0.0,0....|\n|3.61|[24.59,4.0,1.0,0....|\n|4.71|[25.29,4.0,0.0,0....|\n| 2.0|[8.77,2.0,0.0,0.0...|\n|3.12|[26.88,4.0,0.0,0....|\n|1.96|[15.04,2.0,0.0,0....|\n|3.23|[14.78,2.0,0.0,0....|\n|1.71|[10.27,2.0,0.0,0....|\n| 5.0|[35.26,4.0,1.0,0....|\n|1.57|[15.42,2.0,0.0,0....|\n| 3.0|[18.43,4.0,0.0,0....|\n|3.02|[14.83,2.0,1.0,0....|\n|3.92|[21.58,2.0,0.0,0....|\n|1.67|[10.33,3.0,1.0,0....|\n|3.71|[16.29,3.0,0.0,0....|\n| 3.5|[16.97,3.0,1.0,0....|\n|3.35|(6,[0,1],[20.65,3...|\n+----+--------------------+\nonly showing top 20 rows\n\n"
     ]
    }
   ],
   "source": [
    "ouput.select(['tip','IndependentFeatures']).show()"
   ]
  },
  {
   "cell_type": "code",
   "execution_count": 0,
   "metadata": {
    "application/vnd.databricks.v1+cell": {
     "cellMetadata": {
      "byteLimit": 2048000,
      "rowLimit": 10000
     },
     "inputWidgets": {},
     "nuid": "667c72ae-0c5f-4e72-aaa1-a967c4d78790",
     "showTitle": false,
     "tableResultSettingsMap": {},
     "title": ""
    }
   },
   "outputs": [
    {
     "output_type": "stream",
     "name": "stdout",
     "output_type": "stream",
     "text": [
      "+----+--------------------+\n| tip| IndependentFeatures|\n+----+--------------------+\n|1.01|[16.99,2.0,1.0,0....|\n|1.66|[10.34,3.0,0.0,0....|\n| 3.5|[21.01,3.0,0.0,0....|\n|3.31|[23.68,2.0,0.0,0....|\n|3.61|[24.59,4.0,1.0,0....|\n|4.71|[25.29,4.0,0.0,0....|\n| 2.0|[8.77,2.0,0.0,0.0...|\n|3.12|[26.88,4.0,0.0,0....|\n|1.96|[15.04,2.0,0.0,0....|\n|3.23|[14.78,2.0,0.0,0....|\n|1.71|[10.27,2.0,0.0,0....|\n| 5.0|[35.26,4.0,1.0,0....|\n|1.57|[15.42,2.0,0.0,0....|\n| 3.0|[18.43,4.0,0.0,0....|\n|3.02|[14.83,2.0,1.0,0....|\n|3.92|[21.58,2.0,0.0,0....|\n|1.67|[10.33,3.0,1.0,0....|\n|3.71|[16.29,3.0,0.0,0....|\n| 3.5|[16.97,3.0,1.0,0....|\n|3.35|(6,[0,1],[20.65,3...|\n+----+--------------------+\nonly showing top 20 rows\n\n"
     ]
    }
   ],
   "source": [
    "final_data = ouput.select(['tip','IndependentFeatures'])\n",
    "final_data.show()"
   ]
  },
  {
   "cell_type": "code",
   "execution_count": 0,
   "metadata": {
    "application/vnd.databricks.v1+cell": {
     "cellMetadata": {
      "byteLimit": 2048000,
      "rowLimit": 10000
     },
     "inputWidgets": {},
     "nuid": "13bf4db9-9fa0-42fc-a9fe-53314bf7fe6b",
     "showTitle": false,
     "tableResultSettingsMap": {},
     "title": ""
    }
   },
   "outputs": [],
   "source": [
    "from pyspark.ml.regression import LinearRegression\n",
    "\n",
    "##Split Data\n",
    "train_data,test_data = final_data.randomSplit([0.75,0.25])\n",
    "regressor_model = LinearRegression(featuresCol='IndependentFeatures',labelCol='tip')\n",
    "regressor_model = regressor_model.fit(train_data)"
   ]
  },
  {
   "cell_type": "code",
   "execution_count": 0,
   "metadata": {
    "application/vnd.databricks.v1+cell": {
     "cellMetadata": {
      "byteLimit": 2048000,
      "rowLimit": 10000
     },
     "inputWidgets": {},
     "nuid": "5657b271-624d-42aa-bbdd-cc0fcbbc29c5",
     "showTitle": false,
     "tableResultSettingsMap": {},
     "title": ""
    }
   },
   "outputs": [
    {
     "output_type": "stream",
     "name": "stdout",
     "output_type": "stream",
     "text": [
      "Out[12]: (DenseVector([0.0784, 0.3167, 0.0335, 0.1236, 0.1414, -0.1901]),\n 0.4872610919369529)"
     ]
    }
   ],
   "source": [
    "regressor_model.coefficients,regressor_model.intercept"
   ]
  },
  {
   "cell_type": "code",
   "execution_count": 0,
   "metadata": {
    "application/vnd.databricks.v1+cell": {
     "cellMetadata": {
      "byteLimit": 2048000,
      "rowLimit": 10000
     },
     "inputWidgets": {},
     "nuid": "104afd17-340e-4b6c-9eb8-a5207a14e659",
     "showTitle": false,
     "tableResultSettingsMap": {},
     "title": ""
    }
   },
   "outputs": [],
   "source": [
    "##Evaluate on test data\n",
    "\n",
    "predictions = regressor_model.evaluate(test_data)"
   ]
  },
  {
   "cell_type": "code",
   "execution_count": 0,
   "metadata": {
    "application/vnd.databricks.v1+cell": {
     "cellMetadata": {
      "byteLimit": 2048000,
      "rowLimit": 10000
     },
     "inputWidgets": {},
     "nuid": "512b675c-465c-4a8e-82f1-502b95352796",
     "showTitle": false,
     "tableResultSettingsMap": {},
     "title": ""
    }
   },
   "outputs": [
    {
     "output_type": "stream",
     "name": "stdout",
     "output_type": "stream",
     "text": [
      "+----+--------------------+------------------+\n| tip| IndependentFeatures|        prediction|\n+----+--------------------+------------------+\n| 1.0|[3.07,1.0,1.0,1.0...|1.2017110565522016|\n| 1.0|[5.75,2.0,1.0,1.0...|2.1526025683631502|\n| 1.0|[12.6,2.0,0.0,1.0...|2.2317248887673378|\n|1.25|(6,[0,1],[10.07,2...|1.9098423408845604|\n|1.25|[8.51,2.0,1.0,0.0...|1.9137692397848858|\n| 1.5|[19.08,2.0,0.0,0....|2.7085816178417144|\n|1.64|[15.36,2.0,0.0,1....|   2.4480221908366|\n|1.67|[10.33,3.0,1.0,0....| 2.421852856854405|\n|1.76|[11.24,2.0,0.0,1....|2.1251436094868317|\n| 1.8|[12.43,2.0,1.0,0....| 2.220974103593403|\n|1.96|[15.04,2.0,0.0,0....|2.4407205255797697|\n| 2.0|[10.33,2.0,1.0,0....|2.0564000694102686|\n| 2.0|[14.48,2.0,0.0,1....|2.5204441374502213|\n| 2.0|[14.52,2.0,1.0,0....|2.3847644518994753|\n| 2.0|[16.0,2.0,0.0,1.0...|2.5908163886924043|\n| 2.0|[16.49,4.0,0.0,0....|3.1877645484994637|\n| 2.0|[17.89,2.0,0.0,1....|2.7876810215285492|\n| 2.0|[24.01,4.0,0.0,1....|3.7593200452413265|\n| 2.0|[30.46,5.0,0.0,1....| 4.722888525114605|\n| 2.2|[12.16,2.0,0.0,1....|2.4312673156955116|\n+----+--------------------+------------------+\nonly showing top 20 rows\n\n"
     ]
    }
   ],
   "source": [
    "predictions.predictions.show()"
   ]
  },
  {
   "cell_type": "code",
   "execution_count": 0,
   "metadata": {
    "application/vnd.databricks.v1+cell": {
     "cellMetadata": {
      "byteLimit": 2048000,
      "rowLimit": 10000
     },
     "inputWidgets": {},
     "nuid": "0d6e603c-fcb4-4ab2-88be-6e0d37ede0c5",
     "showTitle": false,
     "tableResultSettingsMap": {},
     "title": ""
    }
   },
   "outputs": [
    {
     "output_type": "stream",
     "name": "stdout",
     "output_type": "stream",
     "text": [
      "Out[17]: 1.0641442221766395"
     ]
    }
   ],
   "source": [
    "##Root mean Absolute Error\n",
    "predictions.rootMeanSquaredError"
   ]
  },
  {
   "cell_type": "code",
   "execution_count": 0,
   "metadata": {
    "application/vnd.databricks.v1+cell": {
     "cellMetadata": {
      "byteLimit": 2048000,
      "rowLimit": 10000
     },
     "inputWidgets": {},
     "nuid": "744a55f1-c2f7-4cac-a2a9-6cef084dbb14",
     "showTitle": false,
     "tableResultSettingsMap": {},
     "title": ""
    }
   },
   "outputs": [
    {
     "output_type": "stream",
     "name": "stdout",
     "output_type": "stream",
     "text": [
      "Out[18]: 0.4420515908630589"
     ]
    }
   ],
   "source": [
    "##R-squared\n",
    "predictions.r2"
   ]
  },
  {
   "cell_type": "code",
   "execution_count": 0,
   "metadata": {
    "application/vnd.databricks.v1+cell": {
     "cellMetadata": {},
     "inputWidgets": {},
     "nuid": "7a810f3c-4894-43aa-9718-73e8750d1f05",
     "showTitle": false,
     "tableResultSettingsMap": {},
     "title": ""
    }
   },
   "outputs": [],
   "source": []
  }
 ],
 "metadata": {
  "application/vnd.databricks.v1+notebook": {
   "computePreferences": null,
   "dashboards": [],
   "environmentMetadata": null,
   "language": "python",
   "notebookMetadata": {
    "pythonIndentUnit": 4
   },
   "notebookName": "Linear Regression to estimate Tips",
   "widgets": {}
  }
 },
 "nbformat": 4,
 "nbformat_minor": 0
}
