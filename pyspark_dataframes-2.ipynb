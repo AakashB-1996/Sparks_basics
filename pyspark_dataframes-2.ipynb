{
 "cells": [
  {
   "cell_type": "code",
   "execution_count": 1,
   "metadata": {},
   "outputs": [],
   "source": [
    "from pyspark.sql import SparkSession"
   ]
  },
  {
   "cell_type": "code",
   "execution_count": 2,
   "metadata": {},
   "outputs": [
    {
     "name": "stderr",
     "output_type": "stream",
     "text": [
      "Setting default log level to \"WARN\".\n",
      "To adjust logging level use sc.setLogLevel(newLevel). For SparkR, use setLogLevel(newLevel).\n",
      "24/12/26 16:11:27 WARN NativeCodeLoader: Unable to load native-hadoop library for your platform... using builtin-java classes where applicable\n",
      "24/12/26 16:11:29 WARN Utils: Service 'SparkUI' could not bind on port 4040. Attempting port 4041.\n",
      "24/12/26 16:11:29 WARN Utils: Service 'SparkUI' could not bind on port 4041. Attempting port 4042.\n",
      "/Users/aakashbolisetty/.pyenv/versions/3.7.5/lib/python3.7/site-packages/pyspark/context.py:317: FutureWarning: Python 3.7 support is deprecated in Spark 3.4.\n",
      "  warnings.warn(\"Python 3.7 support is deprecated in Spark 3.4.\", FutureWarning)\n"
     ]
    }
   ],
   "source": [
    "spark =SparkSession.builder.appName('Practice-2').getOrCreate()"
   ]
  },
  {
   "cell_type": "code",
   "execution_count": 3,
   "metadata": {},
   "outputs": [
    {
     "name": "stdout",
     "output_type": "stream",
     "text": [
      "+---+---------+--------+----------+----------+-------------------+------+---------------+\n",
      "| ID|FirstName|LastName|Department|     Phone|            Address|Salary|         Skills|\n",
      "+---+---------+--------+----------+----------+-------------------+------+---------------+\n",
      "|  1|     Luke| Phillip|     Sales|1234567890| 1st Address, Miami| 52000|   Online Sales|\n",
      "|  2|     Jack|  Darren|        IT|1234567891| 2nd Address, Miami| 52200|     Networking|\n",
      "|  3|      Ken|    Wood|        IT|1234567892| 3rd Address, Miami| 58000|   Python, Java|\n",
      "|  4|     John|  Wilson| Marketing|1234567893| 4th Address, Miami| 58700|   Facebook Ads|\n",
      "|  5|    Emily|  Larson| Marketing|1234567894| 5th Address, Miami| 60000|  Instagram Ads|\n",
      "|  6|     Anna|Sullivan|     Sales|1234567895| 6th Address, Miami| 54000|In-Person Sales|\n",
      "|  7|  Richard|   Smith| Logistics|1234567896| 7th Address, Miami| 56000|Warehouse Mgmt.|\n",
      "|  8|   Ronnie|   Moore|     Sales|1234567897| 8th Address, Miami| 49000|   Online Sales|\n",
      "|  9|     null|   Drake|        IT|1234567898| 9th Address, Miami| 53000|  Linux Servers|\n",
      "| 10|    Wayne|  Barker| Logistics|1234567899|10th Address, Miami|  null|Product Loading|\n",
      "+---+---------+--------+----------+----------+-------------------+------+---------------+\n",
      "\n"
     ]
    }
   ],
   "source": [
    "df_pyspark=spark.read.csv('employees.csv',header=True,inferSchema=True)\n",
    "df_pyspark.show()"
   ]
  },
  {
   "cell_type": "code",
   "execution_count": 6,
   "metadata": {},
   "outputs": [
    {
     "name": "stdout",
     "output_type": "stream",
     "text": [
      "+---------+--------+----------+----------+-------------------+------+---------------+\n",
      "|FirstName|LastName|Department|     Phone|            Address|Salary|         Skills|\n",
      "+---------+--------+----------+----------+-------------------+------+---------------+\n",
      "|     Luke| Phillip|     Sales|1234567890| 1st Address, Miami| 52000|   Online Sales|\n",
      "|     Jack|  Darren|        IT|1234567891| 2nd Address, Miami| 52200|     Networking|\n",
      "|      Ken|    Wood|        IT|1234567892| 3rd Address, Miami| 58000|   Python, Java|\n",
      "|     John|  Wilson| Marketing|1234567893| 4th Address, Miami| 58700|   Facebook Ads|\n",
      "|    Emily|  Larson| Marketing|1234567894| 5th Address, Miami| 60000|  Instagram Ads|\n",
      "|     Anna|Sullivan|     Sales|1234567895| 6th Address, Miami| 54000|In-Person Sales|\n",
      "|  Richard|   Smith| Logistics|1234567896| 7th Address, Miami| 56000|Warehouse Mgmt.|\n",
      "|   Ronnie|   Moore|     Sales|1234567897| 8th Address, Miami| 49000|   Online Sales|\n",
      "|     null|   Drake|        IT|1234567898| 9th Address, Miami| 53000|  Linux Servers|\n",
      "|    Wayne|  Barker| Logistics|1234567899|10th Address, Miami|  null|Product Loading|\n",
      "+---------+--------+----------+----------+-------------------+------+---------------+\n",
      "\n"
     ]
    }
   ],
   "source": [
    "#Drop the column\n",
    "\n",
    "df_pyspark.drop('ID').show()"
   ]
  },
  {
   "cell_type": "code",
   "execution_count": 8,
   "metadata": {},
   "outputs": [
    {
     "name": "stdout",
     "output_type": "stream",
     "text": [
      "+---+---------+--------+----------+----------+------------------+------+---------------+\n",
      "| ID|FirstName|LastName|Department|     Phone|           Address|Salary|         Skills|\n",
      "+---+---------+--------+----------+----------+------------------+------+---------------+\n",
      "|  1|     Luke| Phillip|     Sales|1234567890|1st Address, Miami| 52000|   Online Sales|\n",
      "|  2|     Jack|  Darren|        IT|1234567891|2nd Address, Miami| 52200|     Networking|\n",
      "|  3|      Ken|    Wood|        IT|1234567892|3rd Address, Miami| 58000|   Python, Java|\n",
      "|  4|     John|  Wilson| Marketing|1234567893|4th Address, Miami| 58700|   Facebook Ads|\n",
      "|  5|    Emily|  Larson| Marketing|1234567894|5th Address, Miami| 60000|  Instagram Ads|\n",
      "|  6|     Anna|Sullivan|     Sales|1234567895|6th Address, Miami| 54000|In-Person Sales|\n",
      "|  7|  Richard|   Smith| Logistics|1234567896|7th Address, Miami| 56000|Warehouse Mgmt.|\n",
      "|  8|   Ronnie|   Moore|     Sales|1234567897|8th Address, Miami| 49000|   Online Sales|\n",
      "+---+---------+--------+----------+----------+------------------+------+---------------+\n",
      "\n"
     ]
    }
   ],
   "source": [
    "#By default delete any rows with null values in any column\n",
    "df_pyspark.na.drop().show()"
   ]
  },
  {
   "cell_type": "code",
   "execution_count": 9,
   "metadata": {},
   "outputs": [
    {
     "name": "stdout",
     "output_type": "stream",
     "text": [
      "+---+---------+--------+----------+----------+-------------------+------+---------------+\n",
      "| ID|FirstName|LastName|Department|     Phone|            Address|Salary|         Skills|\n",
      "+---+---------+--------+----------+----------+-------------------+------+---------------+\n",
      "|  1|     Luke| Phillip|     Sales|1234567890| 1st Address, Miami| 52000|   Online Sales|\n",
      "|  2|     Jack|  Darren|        IT|1234567891| 2nd Address, Miami| 52200|     Networking|\n",
      "|  3|      Ken|    Wood|        IT|1234567892| 3rd Address, Miami| 58000|   Python, Java|\n",
      "|  4|     John|  Wilson| Marketing|1234567893| 4th Address, Miami| 58700|   Facebook Ads|\n",
      "|  5|    Emily|  Larson| Marketing|1234567894| 5th Address, Miami| 60000|  Instagram Ads|\n",
      "|  6|     Anna|Sullivan|     Sales|1234567895| 6th Address, Miami| 54000|In-Person Sales|\n",
      "|  7|  Richard|   Smith| Logistics|1234567896| 7th Address, Miami| 56000|Warehouse Mgmt.|\n",
      "|  8|   Ronnie|   Moore|     Sales|1234567897| 8th Address, Miami| 49000|   Online Sales|\n",
      "|  9|     null|   Drake|        IT|1234567898| 9th Address, Miami| 53000|  Linux Servers|\n",
      "| 10|    Wayne|  Barker| Logistics|1234567899|10th Address, Miami|  null|Product Loading|\n",
      "+---+---------+--------+----------+----------+-------------------+------+---------------+\n",
      "\n"
     ]
    }
   ],
   "source": [
    "##Arguments for drop\n",
    "#how = 'any' is default and removes a row if even one value is null \n",
    "#and how = 'all' will remove a row only if all values are null\n",
    "df_pyspark.na.drop(how='all').show()"
   ]
  },
  {
   "cell_type": "code",
   "execution_count": 12,
   "metadata": {},
   "outputs": [
    {
     "name": "stdout",
     "output_type": "stream",
     "text": [
      "+---+---------+--------+----------+----------+------------------+------+---------------+\n",
      "| ID|FirstName|LastName|Department|     Phone|           Address|Salary|         Skills|\n",
      "+---+---------+--------+----------+----------+------------------+------+---------------+\n",
      "|  1|     Luke| Phillip|     Sales|1234567890|1st Address, Miami| 52000|   Online Sales|\n",
      "|  2|     Jack|  Darren|        IT|1234567891|2nd Address, Miami| 52200|     Networking|\n",
      "|  3|      Ken|    Wood|        IT|1234567892|3rd Address, Miami| 58000|   Python, Java|\n",
      "|  4|     John|  Wilson| Marketing|1234567893|4th Address, Miami| 58700|   Facebook Ads|\n",
      "|  5|    Emily|  Larson| Marketing|1234567894|5th Address, Miami| 60000|  Instagram Ads|\n",
      "|  6|     Anna|Sullivan|     Sales|1234567895|6th Address, Miami| 54000|In-Person Sales|\n",
      "|  7|  Richard|   Smith| Logistics|1234567896|7th Address, Miami| 56000|Warehouse Mgmt.|\n",
      "|  8|   Ronnie|   Moore|     Sales|1234567897|8th Address, Miami| 49000|   Online Sales|\n",
      "|  9|     null|   Drake|        IT|1234567898|9th Address, Miami| 53000|  Linux Servers|\n",
      "+---+---------+--------+----------+----------+------------------+------+---------------+\n",
      "\n"
     ]
    }
   ],
   "source": [
    "##Threshold (Thresh)\n",
    "## if it has minimum thresh no.of non null values then it keeps the data, if not the row would be filtered out\n",
    "df_pyspark.na.drop(how='any',thresh=7).show()"
   ]
  },
  {
   "cell_type": "code",
   "execution_count": 13,
   "metadata": {},
   "outputs": [
    {
     "name": "stdout",
     "output_type": "stream",
     "text": [
      "+---+---------+--------+----------+----------+-------------------+------+---------------+\n",
      "| ID|FirstName|LastName|Department|     Phone|            Address|Salary|         Skills|\n",
      "+---+---------+--------+----------+----------+-------------------+------+---------------+\n",
      "|  1|     Luke| Phillip|     Sales|1234567890| 1st Address, Miami| 52000|   Online Sales|\n",
      "|  2|     Jack|  Darren|        IT|1234567891| 2nd Address, Miami| 52200|     Networking|\n",
      "|  3|      Ken|    Wood|        IT|1234567892| 3rd Address, Miami| 58000|   Python, Java|\n",
      "|  4|     John|  Wilson| Marketing|1234567893| 4th Address, Miami| 58700|   Facebook Ads|\n",
      "|  5|    Emily|  Larson| Marketing|1234567894| 5th Address, Miami| 60000|  Instagram Ads|\n",
      "|  6|     Anna|Sullivan|     Sales|1234567895| 6th Address, Miami| 54000|In-Person Sales|\n",
      "|  7|  Richard|   Smith| Logistics|1234567896| 7th Address, Miami| 56000|Warehouse Mgmt.|\n",
      "|  8|   Ronnie|   Moore|     Sales|1234567897| 8th Address, Miami| 49000|   Online Sales|\n",
      "| 10|    Wayne|    null| Logistics|1234567899|10th Address, Miami|  null|Product Loading|\n",
      "+---+---------+--------+----------+----------+-------------------+------+---------------+\n",
      "\n"
     ]
    }
   ],
   "source": [
    "##subset argument in drop will only filter out the row if the value in that column is null\n",
    "df_pyspark.na.drop(how='any',subset=['FirstName']).show()"
   ]
  },
  {
   "cell_type": "code",
   "execution_count": 14,
   "metadata": {},
   "outputs": [
    {
     "name": "stdout",
     "output_type": "stream",
     "text": [
      "+---+---------+--------+----------+----------+-------------------+------+---------------+\n",
      "| ID|FirstName|LastName|Department|     Phone|            Address|Salary|         Skills|\n",
      "+---+---------+--------+----------+----------+-------------------+------+---------------+\n",
      "|  1|     Luke| Phillip|     Sales|1234567890| 1st Address, Miami| 52000|   Online Sales|\n",
      "|  2|     Jack|  Darren|        IT|1234567891| 2nd Address, Miami| 52200|     Networking|\n",
      "|  3|      Ken|    Wood|        IT|1234567892| 3rd Address, Miami| 58000|   Python, Java|\n",
      "|  4|     John|  Wilson| Marketing|1234567893| 4th Address, Miami| 58700|   Facebook Ads|\n",
      "|  5|    Emily|  Larson| Marketing|1234567894| 5th Address, Miami| 60000|  Instagram Ads|\n",
      "|  6|     Anna|Sullivan|     Sales|1234567895| 6th Address, Miami| 54000|In-Person Sales|\n",
      "|  7|  Richard|   Smith| Logistics|1234567896| 7th Address, Miami| 56000|Warehouse Mgmt.|\n",
      "|  8|   Ronnie|   Moore|     Sales|1234567897| 8th Address, Miami| 49000|   Online Sales|\n",
      "|  9|  No Data|   Drake|        IT|1234567898| 9th Address, Miami| 53000|  Linux Servers|\n",
      "| 10|    Wayne| No Data| Logistics|1234567899|10th Address, Miami|  null|Product Loading|\n",
      "+---+---------+--------+----------+----------+-------------------+------+---------------+\n",
      "\n"
     ]
    }
   ],
   "source": [
    "##Fill the missing Values\n",
    "df_pyspark.na.fill('No Data').show()"
   ]
  },
  {
   "cell_type": "code",
   "execution_count": 20,
   "metadata": {},
   "outputs": [],
   "source": [
    "from pyspark.ml.feature import Imputer\n",
    "imputer = Imputer(\n",
    "inputCols=['Salary'],\n",
    "outputCols=[\"{}_imputed\".format(c) for c in ['Salary']]\n",
    ").setStrategy(\"median\")"
   ]
  },
  {
   "cell_type": "code",
   "execution_count": 21,
   "metadata": {},
   "outputs": [
    {
     "name": "stdout",
     "output_type": "stream",
     "text": [
      "+---+---------+--------+----------+----------+-------------------+------+---------------+--------------+\n",
      "| ID|FirstName|LastName|Department|     Phone|            Address|Salary|         Skills|Salary_imputed|\n",
      "+---+---------+--------+----------+----------+-------------------+------+---------------+--------------+\n",
      "|  1|     Luke| Phillip|     Sales|1234567890| 1st Address, Miami| 52000|   Online Sales|         52000|\n",
      "|  2|     Jack|  Darren|        IT|1234567891| 2nd Address, Miami| 52200|     Networking|         52200|\n",
      "|  3|      Ken|    Wood|        IT|1234567892| 3rd Address, Miami| 58000|   Python, Java|         58000|\n",
      "|  4|     John|  Wilson| Marketing|1234567893| 4th Address, Miami| 58700|   Facebook Ads|         58700|\n",
      "|  5|    Emily|  Larson| Marketing|1234567894| 5th Address, Miami| 60000|  Instagram Ads|         60000|\n",
      "|  6|     Anna|Sullivan|     Sales|1234567895| 6th Address, Miami| 54000|In-Person Sales|         54000|\n",
      "|  7|  Richard|   Smith| Logistics|1234567896| 7th Address, Miami| 56000|Warehouse Mgmt.|         56000|\n",
      "|  8|   Ronnie|   Moore|     Sales|1234567897| 8th Address, Miami| 49000|   Online Sales|         49000|\n",
      "|  9|     null|   Drake|        IT|1234567898| 9th Address, Miami| 53000|  Linux Servers|         53000|\n",
      "| 10|    Wayne|    null| Logistics|1234567899|10th Address, Miami|  null|Product Loading|         54000|\n",
      "+---+---------+--------+----------+----------+-------------------+------+---------------+--------------+\n",
      "\n"
     ]
    }
   ],
   "source": [
    "##Add imputer\n",
    "imputer.fit(df_pyspark).transform(df_pyspark).show()"
   ]
  },
  {
   "cell_type": "code",
   "execution_count": null,
   "metadata": {},
   "outputs": [],
   "source": []
  }
 ],
 "metadata": {
  "kernelspec": {
   "display_name": "3.7.5",
   "language": "python",
   "name": "python3"
  },
  "language_info": {
   "codemirror_mode": {
    "name": "ipython",
    "version": 3
   },
   "file_extension": ".py",
   "mimetype": "text/x-python",
   "name": "python",
   "nbconvert_exporter": "python",
   "pygments_lexer": "ipython3",
   "version": "3.7.5"
  }
 },
 "nbformat": 4,
 "nbformat_minor": 2
}
